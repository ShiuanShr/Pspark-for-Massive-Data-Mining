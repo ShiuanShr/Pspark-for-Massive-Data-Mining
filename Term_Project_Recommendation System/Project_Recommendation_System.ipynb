{
 "cells": [
  {
   "cell_type": "markdown",
   "id": "5b562761",
   "metadata": {},
   "source": [
    "### 此為ipynb檔案包含Markdown，並額外附有Report.pdf提供資料流程說明與驗證測資\n",
    "\n",
    "- Part  I: Cosine Similarity RDD\n",
    "\n",
    "    成功輸出\n",
    "\n",
    "- Part II: 推薦系統設計\n",
    "\n",
    "    成功輸出  不穩定，可於步驟分開執行\n",
    "\n",
    "    \n",
    "- Part III (1): 利用Model Based重寫Part II - ALS\n"
   ]
  },
  {
   "cell_type": "code",
   "execution_count": 1,
   "id": "56f90313",
   "metadata": {},
   "outputs": [
    {
     "name": "stdout",
     "output_type": "stream",
     "text": [
      "Requirement already satisfied: psutil in c:\\users\\leoshr\\appdata\\local\\programs\\python\\python39\\lib\\site-packages (5.8.0)\n"
     ]
    },
    {
     "name": "stderr",
     "output_type": "stream",
     "text": [
      "WARNING: You are using pip version 20.2.3; however, version 21.3.1 is available.\n",
      "You should consider upgrading via the 'c:\\users\\leoshr\\appdata\\local\\programs\\python\\python39\\python.exe -m pip install --upgrade pip' command.\n"
     ]
    },
    {
     "name": "stdout",
     "output_type": "stream",
     "text": [
      "sc:<SparkContext master=local[6] appName=Recommendation>\n"
     ]
    }
   ],
   "source": [
    "\"\"\"\n",
    "PartI : Cosine Similarity RDD\n",
    "\"\"\"\n",
    "from pyspark.sql import SparkSession\n",
    "import os\n",
    "import sys\n",
    "from pyspark.context import SparkContext,SparkConf\n",
    "from pyspark.rdd import RDD\n",
    "!pip install psutil\n",
    "import psutil\n",
    "import math\n",
    "import operator\n",
    "import time\n",
    "#若沒有下面這段\n",
    "#會有Exception: Java gateway process exited before sending its port number\n",
    "#Config\n",
    "os.environ['JAVA_HOME'] = 'C:\\Program Files\\Java\\jre1.8.0_301'\n",
    "os.environ['PYSPARK_PYTHON'] = sys.executable\n",
    "os.environ['PYSPARK_DRIVER_PYTHON'] = sys.executable\n",
    "\n",
    "\n",
    "\n",
    "sc = SparkContext(conf=SparkConf().setAppName(\"Recommendation\")\\\n",
    "                  .setMaster(\"local[6]\")\\\n",
    "                  .set(\"spark.executor.heartbeatInterval\",\"200000\")\\\n",
    "                 .set(\"spark.network.timeout\", \"10000000\"))\n",
    "                                                 \n",
    "#setting - heartbeatInterval\",\"200000\"  \"200k ms\"\n",
    "#   \"spark.network.timeout\", \"300000\"   \"400k ms\"\n",
    "print(f'sc:{sc}')\n",
    "spark = SparkSession(sc)"
   ]
  },
  {
   "cell_type": "markdown",
   "id": "53a8c0f8",
   "metadata": {},
   "source": [
    "# 進行normalized的重要函式"
   ]
  },
  {
   "cell_type": "code",
   "execution_count": 2,
   "id": "a54e0848",
   "metadata": {},
   "outputs": [],
   "source": [
    "#New method\n",
    "#測試資料rdd = sc.parallelize([('b',1),('b',2), ('a',3),('a',4),('a',11)])\n",
    "\n",
    "def mean_of_RatingPerUser(rdd):\n",
    "    Tupleee =  ( 0 , 0 ) \n",
    "    \"\"\"\n",
    "    取得該user rating 的平均值\n",
    "    input: [('b user', 1), ('b user', 2), ('a user', 3), ('a user', 4), ('a user', 11)]\n",
    "    \n",
    "    Iwanttosleep: [('b user', (3, 2)), ('a user', (18, 3))] # 前者是sum, 後者是number count\n",
    "  \n",
    "    output: [('b', 1.5), ('a', 6.0)]\n",
    "    以上皆為RDD\n",
    "    \"\"\"\n",
    "    Iwanttosleep = rdd.aggregateByKey ( Tupleee , lambda x , y :  ( x[0]+ y ,  x[1]+1 ) , \n",
    "                                       lambda x , y :  ( x[0]  + y[0] , x[1]+y[1] ) )\n",
    "    fuckmylife = Iwanttosleep . mapValues ( lambda v : v [0] / v[1] )\n",
    "    return fuckmylife   \n",
    "\n",
    "def NL_user_rating(RDD1):\n",
    "    \"\"\"\n",
    "    Input: userID必須當key [(userID), (movie_id, rating)]\n",
    "    RDD1: 目標是利用paired_RDD直接進行正則化，其傳入之RDD應為所有user對movie對應的rating\n",
    "    format:key [(userID), (movie_id, rating)]\n",
    "                [('1',    ('1',        4.0)),\n",
    "                 ('4',    ('1',        5.0)),\n",
    "                 ('5',    ('1',        1.0)),...]\n",
    "    \n",
    "    \n",
    "    RDD2: 由RDD1轉化而成， 原本為符合mean_of_RatingPerUser函式需求的RDD format, 目的是找出mean。\n",
    "    input format: [('b', 1), ('b', 2), ('a', 3), ('a', 4), ('a', 11)] \n",
    "    \n",
    "    \n",
    "    Output:\n",
    "    [(userID, (Movie_ID, Normalized_rating_score)),(...)...(...)]\n",
    "    \"\"\"\n",
    "    #mean_per_user的誕生\n",
    "    temp1 = RDD1.map(lambda x : (x[0], (x[1][1]))) #format change以符合mean_of_RatingPerUser input要求\n",
    "    mean_per_user = mean_of_RatingPerUser(temp1)#跳去mean_of_RatingPerUser做工\n",
    "    \n",
    "    #Merge & reformat \n",
    "    #將format 從(user_id, (movie_id, movie_ratng),user_average_rating)\n",
    "    #into       (user_id, (movie_id, movie_ratng,user_average_rating))\n",
    "    temp2 = RDD1.join(mean_per_user).map(lambda x :(x[0], (x[1][0][0],x[1][0][1],x[1][1]))) \n",
    "    \n",
    "    #將rating_score - (mean of rating score per user-based)\n",
    "    result = temp2.map(lambda x:(x[0], (x[1][0],x[1][1]-x[1][2])))\n",
    "    return result "
   ]
  },
  {
   "cell_type": "code",
   "execution_count": 3,
   "id": "0e5e6f70",
   "metadata": {},
   "outputs": [],
   "source": [
    "ratings_file_path = 'C:\\\\Users\\\\LeoShr\\\\p_space\\\\NTHU\\\\MDA\\\\Team Project\\\\Dataset\\\\ml-latest-small\\\\' + 'ratings.csv'\n",
    "\n",
    "#ratings_file_path = r'C:\\\\Users\\\\LeoShr\\\\p_space\\\\NTHU\\\\MDA\\\\Team Project\\\\Dataset\\\\mini_dataset_latest\\\\' + 'ratings_test.csv'\n",
    "\n",
    "#ratings_file_path = 'C:\\\\Users\\\\LeoShr\\\\p_space\\\\NTHU\\\\MDA\\\\Team Project\\\\Dataset\\\\mini_dataset_latest\\\\' + 'three_rating.csv'\n"
   ]
  },
  {
   "cell_type": "markdown",
   "id": "96a2bca8",
   "metadata": {},
   "source": [
    "#### 這個block常常用run all會error，要手動，原因不明\n",
    "如果socket write error，重新執行一次"
   ]
  },
  {
   "cell_type": "code",
   "execution_count": 5,
   "id": "ba0072e9",
   "metadata": {},
   "outputs": [
    {
     "data": {
      "text/plain": [
       "PythonRDD[17] at RDD at PythonRDD.scala:53"
      ]
     },
     "execution_count": 5,
     "metadata": {},
     "output_type": "execute_result"
    }
   ],
   "source": [
    "ratings_raw_data = sc.textFile(ratings_file_path)\n",
    "\n",
    "#去除header\n",
    "header_ratings = ratings_raw_data.take(1)[0]\n",
    "header_ratings #string\n",
    "\n",
    "#讀入ratings_raw_data，其是用list裝所有element，並用逗號分割的，因此我們要將它分開line.split(\",\")，並轉成paired RDD\n",
    "ratings_data_RDD = ratings_raw_data.filter(lambda line: line != header_ratings).map(lambda line: line.split(\",\")).map(lambda tokens: (int(tokens[0]), int(tokens[1]), float(tokens[2])))\n",
    "ratings_data_pairedRDD = ratings_data_RDD.map(lambda x: (x[0], (x[1], x[2])))\n",
    "#ratings_data_pairedRDD 格式為: userID, movie_id, rating\n",
    "\n",
    "\n",
    "\n",
    "#第23版更動，論文提到要做normalized\n",
    "user_based_Nlrating = NL_user_rating(ratings_data_pairedRDD)\n",
    "#user_based_Nlrating = ratings_data_pairedRDD\n",
    "user_based_Nlrating.cache()\n",
    "#格式: 'userId, (movie_id, rating) ，以user為key原因是要根據每位user的rating做normalized"
   ]
  },
  {
   "cell_type": "code",
   "execution_count": 6,
   "id": "9c82abeb",
   "metadata": {},
   "outputs": [
    {
     "name": "stdout",
     "output_type": "stream",
     "text": [
      " [(movieID, (userID, rating))] \n"
     ]
    }
   ],
   "source": [
    "#將userbased轉成item-based\n",
    "#[(userID, (movieID, rating))] -> [(movieID, (userID, rating))] \n",
    "print(' [(movieID, (userID, rating))] ')\n",
    "item_based_rating = user_based_Nlrating.map(lambda x: (x[1][0],(x[0],x[1][1])))\n"
   ]
  },
  {
   "cell_type": "markdown",
   "id": "d9d188ff",
   "metadata": {},
   "source": [
    "## 分子 numerator\n",
    "\n",
    "因為我們要算item based的cosine similarity，為兩個movie的向量相乘，而分子只有當同一個user評價兩部不同的電影時，才會進行相乘，因此，我們能夠利用此規則，將(userID, (movieID, normalized_rating)) self-join, 得到每位user同時有評價的電影關係。\n",
    "\n",
    "\n",
    "\n",
    "1. 再將自己對自己的關係去除 filter.out\n",
    "\n",
    "2. 任何一部電影被normailized後rating 恰好為0的部分不能去除，因為它們並非代表空值，而是代表該user對該電影的評分向量加乘，而之後計算可以讓其cosine simalarity == 0 ，但是不能去除，因為cosine最小為-1，他們比-1大。\n",
    "\n",
    "3. 直接進行rating 相乘， 並[(movieID, movie_ID),(rating乘積)]"
   ]
  },
  {
   "cell_type": "code",
   "execution_count": 7,
   "id": "356e70c2",
   "metadata": {},
   "outputs": [
    {
     "data": {
      "text/plain": [
       "[(4, (21, -0.5555555555555554))]"
      ]
     },
     "execution_count": 7,
     "metadata": {},
     "output_type": "execute_result"
    }
   ],
   "source": [
    "user_based_Nlrating.take(1)"
   ]
  },
  {
   "cell_type": "markdown",
   "id": "e4032d98",
   "metadata": {},
   "source": [
    "# 分子部分"
   ]
  },
  {
   "cell_type": "code",
   "execution_count": 8,
   "id": "06efd1b7",
   "metadata": {},
   "outputs": [],
   "source": [
    "cleanJoin_user_based = user_based_Nlrating.join(user_based_Nlrating).filter(lambda x : (x[1][0][0] < x[1][1][0]))\n",
    "nominator = cleanJoin_user_based.map(lambda x : ((x[1][0][0], x[1][1][0]), (x[1][0][1] * x[1][1][1])))\n",
    "numerator_sum  = nominator.reduceByKey(lambda x , y : x+y)\n",
    "\n",
    "# numerator_sum.take(10)\n"
   ]
  },
  {
   "cell_type": "markdown",
   "id": "30958423",
   "metadata": {},
   "source": [
    "# 分母部分"
   ]
  },
  {
   "cell_type": "code",
   "execution_count": 9,
   "id": "35220a3a",
   "metadata": {},
   "outputs": [
    {
     "data": {
      "text/plain": [
       "PythonRDD[34] at RDD at PythonRDD.scala:53"
      ]
     },
     "execution_count": 9,
     "metadata": {},
     "output_type": "execute_result"
    }
   ],
   "source": [
    "#將其進行平方\n",
    "denominator2 = cleanJoin_user_based.map(lambda x : ((x[1][0][0], x[1][1][0]), (math.pow(x[1][0][1],2),math.pow(x[1][1][1],2))))\n",
    "\n",
    "denominator_sum = denominator2.reduceByKey(lambda x,y : (x[0]+y[0], x[1]+y[1]))\n",
    "#format: (Mov-1, Mov-2),(Mov-1中與Mov-2重疊的rating值加總, Mov-2中與Mov-1重疊的rating值加總)\n",
    "\n",
    "denominator = denominator_sum.map(lambda x : (x[0], round(math.pow(x[1][0],0.5) * math.pow(x[1][1],0.5),15 )))\n",
    "\n",
    "\n",
    "denominator.cache()"
   ]
  },
  {
   "cell_type": "markdown",
   "id": "1dc6505e",
   "metadata": {},
   "source": [
    "## 將分母repartition，再依次對分子join  以加快運算速度(其實不重新partition也沒差)\n",
    "\n",
    " \n",
    " ### 方法1 進行重新repartition\n",
    " \n",
    " ***Test1***: 將分母repartiton 成200，分子repartiton成12\n",
    " \n",
    "    Took : 208.04065036773682  sec\n",
    " ***Test2***: 將分母repartiton 成200，分子repartiton成24 \n",
    "\n",
    "    Took: 237.72707533836365 \n",
    "    \n",
    "    \n",
    " ***Test3***: 將分母repartiton 成200，分子repartiton成12\n",
    " \n",
    "     Took : 328.44013023376465 \n",
    "    \n",
    " ***Test4***: 將分母repartiton 成200，分子repartiton成36   \n",
    " \n",
    "     Took : 248.70657658576965 \n",
    " ***Test5***: 將分母repartiton 成8，分子repartiton成8  \n",
    "     \n",
    "     Took : 129.8989553451538 \n",
    "\n",
    "\n",
    "***因此將分母repartiton 成200，分子repartiton成12 (六核心)***"
   ]
  },
  {
   "cell_type": "code",
   "execution_count": 10,
   "id": "fe0cba2d",
   "metadata": {},
   "outputs": [
    {
     "name": "stdout",
     "output_type": "stream",
     "text": [
      "Do not need to repartite them\n"
     ]
    }
   ],
   "source": [
    "s1 = time.time()\n",
    "if (denominator.getNumPartitions() != 8 or numerator_sum.getNumPartitions()!= 8):\n",
    "    \"\"\"\n",
    "    PS: 在我的環境中，皆partiton成8 會耗時最短，CPU跟RAM都還能負荷，可以依照情況關閉此Block\n",
    "    \"\"\"\n",
    "    denominator = denominator.repartition(8)\n",
    "    numerator_sum = numerator_sum.repartition(8)\n",
    "    print('repartiton completed')\n",
    "else:\n",
    "    print('Do not need to repartite them')\n"
   ]
  },
  {
   "cell_type": "code",
   "execution_count": 11,
   "id": "2e7d28f1",
   "metadata": {},
   "outputs": [],
   "source": [
    "denominator = denominator.filter(lambda x : (x[1] != 0))\n",
    "#去除分母為0的, 因為分母為0會有zero division error報錯在推薦系統(PartII部分)"
   ]
  },
  {
   "cell_type": "code",
   "execution_count": null,
   "id": "53d2fc0f",
   "metadata": {},
   "outputs": [],
   "source": [
    "cosin_sim = numerator_sum.join(denominator).map(lambda x:(x[0], float(x[1][0]/x[1][1])))\n",
    "print(f'{cosin_sim.take(2)}')\n",
    "t1 = time.time()\n",
    "print(f'8 vs 8 partition took {t1 - s1} sec')"
   ]
  },
  {
   "cell_type": "markdown",
   "id": "95daff44",
   "metadata": {},
   "source": [
    "## 輸出Cosine Similarity 於RDD: cosin_sim\n",
    "\n",
    "其中已移除\n",
    "\n",
    "- (1)電影自身對自身的Cosine Similarity關係:\n",
    "\n",
    "    因為該value必定為1，除非截尾誤差，但是如果需要找自己與自己的cos sim，可以直接return 1，不用浪費算力也避免結尾誤差發生\n",
    "\n",
    "(2) 重複的關係\n",
    "\n",
    "    eg. ((3,151), 0.555)  vs ((151, 3), 0.555) 只留下前者"
   ]
  },
  {
   "cell_type": "code",
   "execution_count": null,
   "id": "30f186d7",
   "metadata": {},
   "outputs": [],
   "source": [
    "cosin_sim.take(15)"
   ]
  },
  {
   "cell_type": "code",
   "execution_count": null,
   "id": "4bd0a48d",
   "metadata": {},
   "outputs": [],
   "source": [
    "# save_path = os.getcwd()+'\\\\'+'Output_1231\\\\'\n",
    "# #註記: \n",
    "# #如果電腦不給力，可以直接用AWS EMR，然後把partition調高，丟上去用，如果在本地端運行巨量數據，容易time out或是server端會 shut down ，\n",
    "# #可以按照上面test結果即可直接collect出，若要全部的資料則可依照下列程式碼匯出\n",
    "\n",
    "# cosin_sim.repartition(1).saveAsTextFile(save_path + \"output_realData\" ,compressionCodecClass=None)\n"
   ]
  },
  {
   "cell_type": "markdown",
   "id": "3b4c685b",
   "metadata": {},
   "source": [
    "# Part I : Cosine Similarity Completed"
   ]
  },
  {
   "cell_type": "markdown",
   "id": "de7a6c8a",
   "metadata": {},
   "source": [
    "# 推薦系統設計如下:\n",
    "    "
   ]
  },
  {
   "cell_type": "markdown",
   "id": "8152c2f9",
   "metadata": {},
   "source": [
    "input dataset"
   ]
  },
  {
   "cell_type": "code",
   "execution_count": null,
   "id": "5be8b081",
   "metadata": {},
   "outputs": [],
   "source": [
    "#movie data path setting\n",
    "#movies_file_path = r'C:\\\\Users\\\\LeoShr\\\\p_space\\\\NTHU\\\\MDA\\\\Team Project\\\\Dataset\\\\mini_dataset_latest\\\\' + 'three_movie.csv'\n",
    "\n",
    "movies_file_path = 'C:\\\\Users\\\\LeoShr\\\\p_space\\\\NTHU\\\\MDA\\\\Team Project\\\\Dataset\\\\ml-latest-small\\\\' + 'movies.csv'\n",
    "#movies_file_path = r'C:\\\\Users\\\\LeoShr\\\\p_space\\\\NTHU\\\\MDA\\\\Team Project\\\\Dataset\\\\mini_dataset_latest\\\\' + 'movies_test.csv'"
   ]
  },
  {
   "cell_type": "code",
   "execution_count": null,
   "id": "384600ea",
   "metadata": {},
   "outputs": [],
   "source": [
    "# \"\"\"\n",
    "# Import movie data\n",
    "# \"\"\"\n",
    "movies_raw_data = sc.textFile(movies_file_path)\n",
    "#去除header\n",
    "header_movies = movies_raw_data.take(1)[0]\n",
    "header_movies #string\n",
    "\n",
    "\n",
    "movies_data_RDD = movies_raw_data.filter(lambda line: line != header_movies).map(lambda line: line.split(\",\")).map(lambda tokens: (int(tokens[0]), tokens[1], tokens[2]))\n",
    "movies_data_pairedRDD = movies_data_RDD.map(lambda x: (x[0], (x[1], x[2])))\n",
    "\n",
    "\n",
    "#movies_data_pairedRDD.collect()\n",
    "#格式為: movieId,\\t title \\t genres'"
   ]
  },
  {
   "cell_type": "code",
   "execution_count": null,
   "id": "df502391",
   "metadata": {},
   "outputs": [],
   "source": [
    "# movies_data_pairedRDD.collect()"
   ]
  },
  {
   "cell_type": "markdown",
   "id": "0ac52151",
   "metadata": {},
   "source": [
    "## Part II: 推薦系統 步驟說明\n",
    "\n",
    "後面會merge成一個function，只需傳入(1)userID,(2) 要求推薦電影的數量，以及(3)前i個cosine Similarity相近而計入預測評分"
   ]
  },
  {
   "cell_type": "code",
   "execution_count": null,
   "id": "521a0057",
   "metadata": {},
   "outputs": [],
   "source": [
    "#1.: 輸入指定user ID,從user_based_Nlrating filter出該user的評分紀錄\n",
    "specificed_user_id = 1 #這也同時是之後要求的input\n",
    "\n",
    "watched_movie_record  = user_based_Nlrating.filter(lambda x :(x[0] == specificed_user_id))\n",
    "#從user_based_Nlrating filter出該user的評分紀錄\n"
   ]
  },
  {
   "cell_type": "code",
   "execution_count": null,
   "id": "dd707918",
   "metadata": {},
   "outputs": [],
   "source": [
    "# watched_movie_record.take(5)"
   ]
  },
  {
   "cell_type": "code",
   "execution_count": null,
   "id": "a1df98a9",
   "metadata": {},
   "outputs": [],
   "source": [
    "\"\"\"\n",
    "目標是從cosin_sim中只取出會用到的的關係，加速運算速度,因此只針對 ((k1, k2), cos-sim),\n",
    "K1或是k2其中一部電影是看過，另一部是沒有看過的篩選出來\n",
    "\"\"\"\n",
    "#2.  從cosine similarity (cosin_sim)結果中取出key中有該user看過電影的cos - sim\n",
    "\n",
    "##2-1. 將該user有看過電影裝在list中\n",
    "watched_movie_list = watched_movie_record.map(lambda x : (x[1][0])).collect()\n",
    "\n",
    "\n",
    "##2-2.   從cosine similarity 結果中取出key中有該user看過電影的cos，放在cosine sim 中\n",
    "#取出cosin_sim中key pair任一值為該user看過的電影，且另一部電影為沒看過的cosine 關係，\n",
    "#因為兩個都是有看過電影的資料之後不會用到(有rating不需要預測)\n",
    "cosine_index = cosin_sim.filter(lambda x : ((x[0][1]) in watched_movie_list and x[0][0] not in watched_movie_list) or \\\n",
    "                                       ((x[0][0]) in watched_movie_list and x[0][1] not in watched_movie_list ))\n",
    "\n",
    "\n",
    "# cosine_index = cosine_index.filter(lambda x : (x[1] !=0)) #不會有影響，不用打開\n",
    "cosine_index.take(3)"
   ]
  },
  {
   "cell_type": "code",
   "execution_count": null,
   "id": "bf08dca1",
   "metadata": {},
   "outputs": [],
   "source": [
    "def order_rddkey(turple):\n",
    "    \"\"\"\n",
    "    表示以沒有看過的電影為key\n",
    "    傳入top10電影關係的cosine sim的key pair，將其重新組合，有看過電影的ID放後面\n",
    "    \"\"\"\n",
    "    if turple[0] not in watched_movie_list: \n",
    "        out = (turple[0], turple[1])\n",
    "    else:\n",
    "        out = ( turple[1], turple[0])\n",
    "    return out"
   ]
  },
  {
   "cell_type": "markdown",
   "id": "214f3871",
   "metadata": {},
   "source": [
    "### 目標是將key pair整理好\n",
    "\n",
    "1. 首先order_rddkey目標為將沒有看過的電影為k1, 有看過的電影為k2\n",
    "    \n",
    "    - cosine_index.map(lambda x : (order_rddkey(x[0]),x[1]))\n",
    " \n",
    "2. 後面mapper目標為以有看過電影為single key\n",
    "\n",
    "    - format: 有看過的電影為single key, value= (沒看過的電影ID, cos - sim)\n",
    "\n"
   ]
  },
  {
   "cell_type": "code",
   "execution_count": null,
   "id": "5195b5ff",
   "metadata": {},
   "outputs": [],
   "source": [
    "#目標是將key pair整理好，\n",
    "\n",
    "#.map(lambda x : (x[0][1],(x[0][0], x[1]))) 部分則是將其mapping 成以有看過的電影為single key, value= (沒看過的電影ID, cos - sim)\n",
    "cs_watched_unwatch   =cosine_index.map(lambda x : (order_rddkey(x[0]),x[1])).map(lambda x : (x[0][1],(x[0][0], x[1])))\n",
    "\n",
    "cs_watched_unwatch.take(1)"
   ]
  },
  {
   "cell_type": "code",
   "execution_count": null,
   "id": "46beb2b2",
   "metadata": {},
   "outputs": [],
   "source": [
    "#foramt: (看過的電影, (未看過的電影, cos -sim))\n",
    "cs_watched_unwatch.take(15)\n",
    "#(看過的電影ID (沒看過movie_ID，cosine))"
   ]
  },
  {
   "cell_type": "markdown",
   "id": "7ae61afe",
   "metadata": {},
   "source": [
    "# Keypoint: \n",
    "\n",
    "\n",
    "需要對每個沒看過的電影取出top10 相關的\n",
    "\n",
    "先找出cs_watched_unwatch找出? 不行! 因為也許大家是牽扯再一起的 可以 因為共用cosine sim\n"
   ]
  },
  {
   "cell_type": "code",
   "execution_count": null,
   "id": "3352bfc1",
   "metadata": {},
   "outputs": [],
   "source": [
    "def top10(ls,i):\n",
    "    \"\"\"\n",
    "    傳入由tuple組成的list，依照tuple中x[1]位置(cos- sim)大小，由高至低倒序排列\n",
    "    \"\"\"\n",
    "    ls.sort(key= lambda x: -x[1]) \n",
    "    ls =  ls[:i]\n",
    "    return ls"
   ]
  },
  {
   "cell_type": "code",
   "execution_count": null,
   "id": "9015b22f",
   "metadata": {},
   "outputs": [],
   "source": [
    "#cs_watched_unwatch format原本為#(看過的電影ID (沒看過movie_ID，cosine))\n",
    "#透過此mapper將其轉化成 ((沒看過movie_ID,看過的電影ID),cosine )\n",
    "tt1 = cs_watched_unwatch.map(lambda x : (int(x[1][0]), (int(x[0]), x[1][1])))\n",
    "tt1.cache()\n",
    "# tt1 = cs_watched_unwatch.map(lambda x : (int(x[1][0]), (int(x[0]), x[1][1]+0.000000000000000000001)))\n",
    "#(未看過的電影, (看過的電影, movie rating))\n",
    "\n",
    "# tt1.cache()\n",
    "tt1.take(15)"
   ]
  },
  {
   "cell_type": "code",
   "execution_count": null,
   "id": "7393c41a",
   "metadata": {},
   "outputs": [],
   "source": [
    "# tt1 = tt1.filter(lambda x : (x[1][1] >= -0.5))\n",
    "tt1.take(5)"
   ]
  },
  {
   "cell_type": "code",
   "execution_count": null,
   "id": "6df091ac",
   "metadata": {},
   "outputs": [],
   "source": [
    "#先以未看過電影ID為key, group起來, group起來部分會是以tuple形式組組成的RDD，因此要轉list\n",
    "stupid_python = tt1.groupByKey().map(lambda x : (x[0], list(x[1])))\n",
    "stupid_python.take(2)"
   ]
  },
  {
   "cell_type": "code",
   "execution_count": null,
   "id": "57b3269d",
   "metadata": {},
   "outputs": [],
   "source": [
    "# stupid_python.getNumPartitions()"
   ]
  },
  {
   "cell_type": "code",
   "execution_count": null,
   "id": "709d2fc7",
   "metadata": {},
   "outputs": [],
   "source": [
    "#找出cosine互相為前十個的關係\n",
    "top_10__call = stupid_python.map(lambda x : (x[0],top10(x[1],10)))\n",
    "# top_10__call.take(2)"
   ]
  },
  {
   "cell_type": "code",
   "execution_count": null,
   "id": "2d48835d",
   "metadata": {},
   "outputs": [],
   "source": [
    "#還原flatmap\n",
    "recovery = top_10__call.flatMapValues(lambda x : (x))\n",
    "# temp4.take(4)"
   ]
  },
  {
   "cell_type": "code",
   "execution_count": null,
   "id": "9eb9470f",
   "metadata": {},
   "outputs": [],
   "source": [
    "#轉回cs_watched_unwatch#(未看過的電影, (看過的電影, movie rating))\n",
    "cs_watched_unwatch = recovery.map(lambda x : (int(x[1][0]), (int(x[0]), float(x[1][1]))))\n",
    "cs_watched_unwatch.take(4)"
   ]
  },
  {
   "attachments": {
    "image.png": {
     "image/png": "[encoded data removed]"
    }
   },
   "cell_type": "markdown",
   "id": "32b08711",
   "metadata": {},
   "source": [
    "# 跟 rating作join\n",
    "\n",
    "\n",
    "![image.png](attachment:image.png)"
   ]
  },
  {
   "cell_type": "markdown",
   "id": "a25b4258",
   "metadata": {},
   "source": [
    "# 完成電影prdiction預測部分"
   ]
  },
  {
   "cell_type": "code",
   "execution_count": null,
   "id": "8ff3f827",
   "metadata": {},
   "outputs": [],
   "source": [
    "#將該user有的rating紀錄 map成只有 (watched_mv_ID, normalized rating)\n",
    "User_watchedMV_rating= watched_movie_record.map(lambda x : (x[1][0], x[1][1]))\n",
    "\n",
    "#mapper是將其轉成item based 當key ()\n",
    "user_board = cs_watched_unwatch.leftOuterJoin(User_watchedMV_rating)#.map(lambda x : (x[1][0][0], (x[0], x[1][0][1])))\n",
    "user_board2 = user_board.map(lambda x : (x[1][0][0], (math.pow(x[1][0][1],2)**0.5,x[1][0][1]* x[1][1])))\n",
    "user_board2.take(3)\n",
    "#(沒看過movie_IDwatchMV,  ( |cosine|, cosine* 對有看過電影的評分))"
   ]
  },
  {
   "cell_type": "code",
   "execution_count": null,
   "id": "156e20ca",
   "metadata": {},
   "outputs": [],
   "source": [
    "prediction_without_basedline = user_board2.reduceByKey(lambda x, y : (x[0]+ y[0], x[1]+ y[1])).map(lambda x : (x[0], ( x[1][1]/x[1][0])))\n",
    "prediction_without_basedline.take(4)"
   ]
  },
  {
   "cell_type": "markdown",
   "id": "aa9de45a",
   "metadata": {},
   "source": [
    "# Add the  basedline\n",
    "\n",
    "\n",
    "Which basedline?\n",
    "\n",
    "- movie basedline (採用): 大眾普遍對某電影評分越低，我們預估該user對其評分越低 (Normailized 後的評分會有負值表示不受大眾看好)\n",
    "\n",
    "\n",
    "- user basedline  : 該user討厭特定類型電影，我們預估期其會給同類型電影分數也越低 (baseline為該user平均評分)\n",
    "\n",
    "        缺點: 若是只有評分太少(例如都是平價兩個3分) 則我們容易讓其預測評分 太高\n",
    "\n",
    "並且確保加上based後不會低於0分或是高於5分"
   ]
  },
  {
   "cell_type": "code",
   "execution_count": null,
   "id": "74fcdc33",
   "metadata": {},
   "outputs": [],
   "source": [
    "def rating_revised(score):\n",
    "    \n",
    "    \"\"\"\n",
    "    若是加上basedline調整後的分數大於5或是小於0則進行調整\n",
    "    \"\"\"\n",
    "    revised_score = 0.0\n",
    "    if (score) < 0.0:\n",
    "        revised_score = 0.0\n",
    "    elif(score > 5.0):\n",
    "        revised_score = 5.0\n",
    "    else:\n",
    "        revised_score = score\n",
    "    return revised_score   "
   ]
  },
  {
   "cell_type": "markdown",
   "id": "7fc27570",
   "metadata": {},
   "source": [
    "#### movie basedline"
   ]
  },
  {
   "cell_type": "code",
   "execution_count": null,
   "id": "581c1db2",
   "metadata": {},
   "outputs": [],
   "source": [
    "#item based 算法\n",
    "#計算該電影normailzed rating總得分/ 總評分人數\n",
    "item_based_line = user_based_Nlrating.map(lambda x : (x[1][0],(x[1][1],1))).reduceByKey(lambda x, y: (x[0]+y[0], x[1]+y[1]))\\\n",
    "                    .map(lambda x : (x[0], x[1][0]/x[1][1]))\n",
    "item_based_line.take(5)\n",
    "# prediction_without_basedline.take(10)\n"
   ]
  },
  {
   "cell_type": "code",
   "execution_count": null,
   "id": "1728e80d",
   "metadata": {},
   "outputs": [],
   "source": [
    "prediction = prediction_without_basedline.leftOuterJoin(item_based_line)\\\n",
    "                                    .map(lambda x : (x[0], rating_revised(x[1][0]+x[1][1])))\n",
    "prediction.take(5)"
   ]
  },
  {
   "cell_type": "code",
   "execution_count": null,
   "id": "e3196e51",
   "metadata": {},
   "outputs": [],
   "source": [
    "prediction.take(10)"
   ]
  },
  {
   "cell_type": "markdown",
   "id": "afead6ee",
   "metadata": {},
   "source": [
    "#### user based line部分"
   ]
  },
  {
   "cell_type": "code",
   "execution_count": null,
   "id": "9643e8e4",
   "metadata": {},
   "outputs": [],
   "source": [
    "#caculate the rating mena of user\n",
    "#user based line\n",
    "user_rating_mean = ratings_data_pairedRDD.filter(lambda x : (x[0]== specificed_user_id)).map(lambda x: (x[0],(x[1][1], 1)))\\\n",
    "                    .reduceByKey(lambda x, y: (x[0]+y[0], x[1]+y[1]))\\\n",
    "                    .map(lambda x : (x[0], x[1][0]/x[1][1]))\n",
    "user_rating_mean.take(2)                         "
   ]
  },
  {
   "cell_type": "code",
   "execution_count": null,
   "id": "2789c9c1",
   "metadata": {},
   "outputs": [],
   "source": [
    "#加上basedline\n",
    "\n",
    "prediction = prediction_without_basedline.map(lambda x : (specificed_user_id, (x[0], x[1]))).join(user_rating_mean)\\\n",
    "            .map(lambda x : (x[1][0][0], rating_revised(x[1][0][1]+ x[1][1])))\n",
    "prediction.take(1)\n",
    "\n"
   ]
  },
  {
   "cell_type": "code",
   "execution_count": null,
   "id": "e7c37ba3",
   "metadata": {},
   "outputs": [],
   "source": [
    "#預測分數完成  (我們採用movie based 的 based line)"
   ]
  },
  {
   "cell_type": "code",
   "execution_count": null,
   "id": "14a820ac",
   "metadata": {},
   "outputs": [],
   "source": [
    "prediction.cache()"
   ]
  },
  {
   "cell_type": "code",
   "execution_count": null,
   "id": "f8890b1f",
   "metadata": {},
   "outputs": [],
   "source": [
    "# 找出movie ID"
   ]
  },
  {
   "cell_type": "code",
   "execution_count": null,
   "id": "da16671e",
   "metadata": {},
   "outputs": [],
   "source": [
    "\n",
    "#指定推薦數量 num_recomd = 500\n",
    "num_recomd = 500\n",
    "print(f'The top {num_recomd} recommended movies list for user{specificed_user_id} as below:')\n",
    "\n",
    "order_prediction = prediction.top(num_recomd, key=lambda x: x[1])\n",
    "order_prediction"
   ]
  },
  {
   "cell_type": "markdown",
   "id": "a9d8b982",
   "metadata": {},
   "source": [
    "# 步驟說明停止, 下面為推薦系統function\n"
   ]
  },
  {
   "cell_type": "code",
   "execution_count": null,
   "id": "94ff1239",
   "metadata": {},
   "outputs": [],
   "source": [
    "#建立該movie  titile的字典    \n",
    "dic_titile =  movies_data_pairedRDD.map(lambda x : (x[0], x[1][0])).collect()\n",
    "mov_title_dict = {ele[0] : ele[1] for ele in dic_titile}\n",
    "\n",
    "def get_title(n):\n",
    "    \"\"\"\n",
    "    input sorted_rdd的k2位置(有看過的電影ID) 將自動去dict中找到對應的title\n",
    "    \n",
    "    \"\"\"\n",
    "    #建立該user評分紀錄的字典    \n",
    "    result = mov_title_dict.get(n)\n",
    "    return result\n",
    "def ID_2_Title(ls):\n",
    "    \"\"\"\n",
    "    input為list\n",
    "    呼叫get_title，執行print\n",
    "    \"\"\"\n",
    "    for (x,y) in ls:\n",
    "        a = get_title(x)\n",
    "        print(f'MovieID: {x}; Title: {a}; Predicted Rating: {y}')\n",
    "              "
   ]
  },
  {
   "cell_type": "code",
   "execution_count": null,
   "id": "85691222",
   "metadata": {},
   "outputs": [],
   "source": [
    "def order_rddkey(turple):\n",
    "    \"\"\"\n",
    "    表示以沒有看過的電影為key\n",
    "    傳入top10電影關係的cosine sim的key pair，將其重新組合，有看過電影的ID放後面\n",
    "    \"\"\"\n",
    "    if turple[0] not in watched_movie_list: \n",
    "        out = (turple[0], turple[1])\n",
    "    else:\n",
    "        out = ( turple[1], turple[0])\n",
    "    return out\n",
    "\n",
    "def top10(ls,i):\n",
    "    \"\"\"\n",
    "    傳入由tuple組成的list，依照tuple中x[1]位置(cos- sim)大小，由高至低倒序排列\n",
    "    \"\"\"\n",
    "    ls.sort(key= lambda x: -x[1]) \n",
    "    ls =  ls[:i]\n",
    "    return ls\n",
    "\n",
    "def rating_revised(score):\n",
    "    \n",
    "    \"\"\"\n",
    "    若是加上basedline調整後的分數大於5或是小於0則進行調整\n",
    "    \"\"\"\n",
    "    revised_score = 0.0\n",
    "    if (score) < 0.0:\n",
    "        revised_score = 0.0\n",
    "    elif(score > 5.0):\n",
    "        revised_score = 5.0\n",
    "    else:\n",
    "        revised_score = score\n",
    "    return revised_score   "
   ]
  },
  {
   "cell_type": "code",
   "execution_count": null,
   "id": "cf07cd0b",
   "metadata": {},
   "outputs": [],
   "source": [
    "# #1.: 輸入指定user ID,從user_based_Nlrating filter出該user的評分紀錄\n",
    "# specificed_user_id = 1 #這也同時是之後要求的input\n",
    "# num_recomd = 500 #指定推薦數量 num_recomd = 500\n",
    "# top_i_in_cosine = 10 #mov_i(未看過)與mov_j(看過), movi對任一電影movj 之cosine similarity 前10計入預測分數\n",
    "\n",
    "\n",
    "\"\"\"\n",
    "此程式不stable, demo請從步驟部分開始，一樣能夠設定參數\n",
    "\"\"\"\n",
    "\n",
    "def recommendation_sys(specificed_user_id,num_recomd =500, top_i_in_cosine = 10):\n",
    "    watched_movie_record  = user_based_Nlrating.filter(lambda x :(x[0] == specificed_user_id))\n",
    "    #從user_based_Nlrating filter出該user的評分紀錄\n",
    "    print(f'stage 1 completed')\n",
    "    \"\"\"\n",
    "    目標是從cosin_sim中只取出會用到的的關係，加速運算速度,因此只針對 ((k1, k2), cos-sim),\n",
    "    K1或是k2其中一部電影是看過，另一部是沒有看過的篩選出來\n",
    "    \"\"\"\n",
    "    #2.  從cosine similarity (cosin_sim)結果中取出key中有該user看過電影的cos - sim\n",
    "    print(f'stage 2 completed')\n",
    "    ##2-1. 將該user有看過電影裝在list中\n",
    "    watched_movie_list = watched_movie_record.map(lambda x : (x[1][0])).collect()\n",
    "    \n",
    "    ##2-2.   從cosine similarity 結果中取出key中有該user看過電影的cos，放在cosine sim 中\n",
    "    #取出cosin_sim中key pair任一值為該user看過的電影，且另一部電影為沒看過的cosine 關係\n",
    "    cosine_index = cosin_sim.filter(lambda x : ((x[0][1]) in watched_movie_list and x[0][0] not in watched_movie_list) or ((x[0][0]) in watched_movie_list and x[0][1] not in watched_movie_list ))\n",
    "    cosine_index.take(1)\n",
    "    cosine_index.cache()\n",
    "    print(f'stage 3 completed')\n",
    "\n",
    "    \"\"\"\n",
    "    select out the required cosine sim relatonship =: Default top 10\n",
    "    \"\"\"\n",
    "    #目標是將key pair整理好，\n",
    "    #.map(lambda x : (x[0][1],(x[0][0], x[1]))) 部分則是將其mapping 成以有看過的電影為single key, value= (沒看過的電影ID, cos - sim)\n",
    "    cs_watched_unwatch   =cosine_index.map(lambda x : (order_rddkey(x[0]),x[1])).map(lambda x : (x[0][1],(x[0][0], x[1])))\n",
    "    print(f'stage 4 completed')\n",
    "\n",
    "    #cs_watched_unwatch format原本為(看過的電影ID (沒看過movie_ID，cosine))\n",
    "    #透過此mapper將其轉化成 ((沒看過movie_ID,看過的電影ID),cosine )\n",
    "    tt1 = cs_watched_unwatch.map(lambda x : (int(x[1][0]), (int(x[0]), x[1][1])))\n",
    "    tt1.cache()\n",
    "    print(f'stage 5 completed')\n",
    "\n",
    "    #先以未看過電影ID為key, group起來, group起來部分會是以tuple形式組組成的RDD，因此要轉list\n",
    "    stupid_python = tt1.groupByKey().map(lambda x : (x[0], list(x[1])))\n",
    "    stupid_python.take(1)\n",
    "    print(f'stage 6 completed')\n",
    "\n",
    "    #找出cosine互相為前十個的關係\n",
    "    top_10__call = stupid_python.map(lambda x : (x[0],top10(x[1],top_i_in_cosine)))\n",
    "    print(f'stage 7 completed')\n",
    "    top_10__call.take(1)\n",
    "    print(f'stage 7.5 completed')\n",
    "\n",
    "    #還原flatmap\n",
    "    recovery = top_10__call.flatMapValues(lambda x : (x))\n",
    "    recovery.take(1)\n",
    "    print(f'stage 8 completed')\n",
    "\n",
    "    #轉回cs_watched_unwatch#(未看過的電影, (看過的電影, movie rating)) okay\n",
    "    cs_watched_unwatch = recovery.map(lambda x : (int(x[1][0]), (int(x[0]), float(x[1][1]))))\n",
    "    cs_watched_unwatch.take(1)\n",
    "    print(f'stage 9 completed')\n",
    "\n",
    "    \"\"\"\n",
    "    Prediction Part\n",
    "    \"\"\"\n",
    "    #將該user有的rating紀錄 map成只有 (watched_mv_ID, normalized rating)\n",
    "    User_watchedMV_rating= watched_movie_record.map(lambda x : (x[1][0], x[1][1]))\n",
    "    User_watchedMV_rating.take(1)\n",
    "    print(f'stage 10 completed')\n",
    "    \n",
    "    #mapper是將其轉成item based 當key ()   #應該是這\n",
    "    user_board = cs_watched_unwatch.leftOuterJoin(User_watchedMV_rating)#.map(lambda x : (x[1][0][0], (x[0], x[1][0][1])))\n",
    "    user_board2 = user_board.map(lambda x : (x[1][0][0], (math.pow(x[1][0][1],2)**0.5,float(x[1][0][1])* float(x[1][1]))))\n",
    "\n",
    "    user_board2.take(1)\n",
    "    print(f'stage 12 completed')\n",
    "\n",
    "    prediction_without_basedline = user_board2.reduceByKey(lambda x, y : (x[0]+ y[0], x[1]+ y[1]))\\\n",
    "                                    .map(lambda x : (x[0], ( x[1][1]/x[1][0])))\n",
    "    prediction_without_basedline.take(1)\n",
    "    print(f'stage 13 completed')\n",
    "\n",
    "    \"\"\"\n",
    "    item adding based line\n",
    "    \n",
    "    \"\"\"\n",
    "    item_based_line = user_based_Nlrating.map(lambda x : (x[1][0],(x[1][1],1))).reduceByKey(lambda x, y: (x[0]+y[0], x[1]+y[1]))\\\n",
    "                    .map(lambda x : (x[0], x[1][0]/x[1][1]))\n",
    "    prediction = prediction_without_basedline.leftOuterJoin(item_based_line)\\\n",
    "                                    .map(lambda x : (x[0], rating_revised(x[1][0]+x[1][1])))\n",
    "      \n",
    "    \"\"\"\n",
    "    User adding based line\n",
    "    \n",
    "    \"\"\"\n",
    "    \n",
    "#     user_rating_mean = ratings_data_pairedRDD.filter(lambda x : (x[0]== specificed_user_id)).map(lambda x: (x[0],(x[1][1], 1)))\\\n",
    "#                         .reduceByKey(lambda x, y: (x[0]+y[0], x[1]+y[1]))\\\n",
    "#                         .map(lambda x : (x[0], x[1][0]/x[1][1]))\n",
    "#     user_rating_mean.take(1)\n",
    "#     print(f'stage 14 completed')\n",
    "\n",
    "#     prediction = prediction_without_basedline.map(lambda x : (specificed_user_id, (x[0], x[1]))).join(user_rating_mean)\\\n",
    "#             .map(lambda x : (x[1][0][0], rating_revised(x[1][0][1]+ x[1][1])))\n",
    "    \n",
    "    prediction.cache()\n",
    "    prediction.take(1)\n",
    "    print(f'stage 15 completed')\n",
    "    \n",
    "    order_prediction = prediction.top(num_recomd, key=lambda x: x[1])\n",
    "    print(f'stage 16 completed')\n",
    "\n",
    "    print(f'The top {num_recomd} recommended movies list for user{specificed_user_id} as below:')\n",
    "    result = ID_2_Title(order_prediction)\n",
    "    print(result) \n"
   ]
  },
  {
   "cell_type": "code",
   "execution_count": null,
   "id": "459e7f9d",
   "metadata": {},
   "outputs": [],
   "source": [
    "#1.: 輸入指定user ID,從user_based_Nlrating filter出該user的評分紀錄\n",
    "idd =4 #user ID\n",
    "n = 500 #指定推薦數量 num_recomd = 500\n",
    "#top_i_in_cosine = 10 #mov_i(未看過)與mov_j(看過), movi對任一電影movj 之cosine similarity 前10計入預測分數\n",
    "po = recommendation_sys(idd,num_recomd =500, top_i_in_cosine = 10)\n",
    "po"
   ]
  },
  {
   "cell_type": "code",
   "execution_count": null,
   "id": "92f13c7e",
   "metadata": {},
   "outputs": [],
   "source": []
  },
  {
   "cell_type": "markdown",
   "id": "b20d5a87",
   "metadata": {},
   "source": [
    "# Part III 使用ALS重寫\n",
    "\n",
    "\n",
    "利用RDD基於model based算法- ALS來達矩陣分解，讓速度更快。\n",
    "\n",
    "此部分算法與上述算法獨立，可以單獨執行，可於完成spark 基本環境設定(第一段程式碼)單獨執行，用於加分。"
   ]
  },
  {
   "cell_type": "code",
   "execution_count": null,
   "id": "3c291368",
   "metadata": {},
   "outputs": [],
   "source": [
    "#input file path setting\n",
    "movies_file_path = 'C:\\\\Users\\\\LeoShr\\\\p_space\\\\NTHU\\\\MDA\\\\Team Project\\\\Dataset\\\\ml-latest-small\\\\' + 'movies.csv'\n",
    "ratings_file_path = 'C:\\\\Users\\\\LeoShr\\\\p_space\\\\NTHU\\\\MDA\\\\Team Project\\\\Dataset\\\\ml-latest-small\\\\' + 'ratings.csv'\n",
    "#完成rating斷行，跟上面完全一樣\n",
    "ratings_raw_data = sc.textFile(ratings_file_path)\n",
    "\n",
    "ratings_header =  ratings_raw_data.take(1)[0]\n",
    "ratings_data_RDD = ratings_raw_data.filter(lambda x: x != ratings_header).map(lambda x: x.split(\",\")).map(lambda t: (int(t[0]), int(t[1]), float(t[2])))\n",
    "\n",
    "#完成movie斷行，跟上面完全一樣\n",
    "movies = sc.textFile(movies_file_path)\n",
    "movies_header = movies.take(1)[0]\n",
    "complete_movies_data = movies.filter(lambda x: x != movies_header).map(lambda x: x.split(\",\")).map(lambda tokens: (int(tokens[0]), tokens[1], tokens[2])).cache()\n",
    "complete_movies_titles = complete_movies_data.map(lambda x: (int(x[0]),x[1]))"
   ]
  },
  {
   "cell_type": "markdown",
   "id": "ef7d5bfc",
   "metadata": {},
   "source": [
    "# 將資料拆成training set,  test set , validation set\n",
    "\n",
    "這樣才能用validation測試"
   ]
  },
  {
   "cell_type": "code",
   "execution_count": null,
   "id": "e3f7726d",
   "metadata": {},
   "outputs": [],
   "source": [
    "training_set, validation_set, test_set = ratings_data_RDD.randomSplit([0.7, 0.15, 0.15])"
   ]
  },
  {
   "cell_type": "markdown",
   "id": "888682ce",
   "metadata": {},
   "source": [
    " ## 只放user id, movie_id ，移除rating"
   ]
  },
  {
   "cell_type": "code",
   "execution_count": null,
   "id": "090e96f6",
   "metadata": {},
   "outputs": [],
   "source": [
    "validation_set = validation_set.map(lambda x: (x[0], x[1])) #只放user id, movie_id ，移除rating\n",
    "test_set = test_set.map(lambda x: (x[0], x[1]))"
   ]
  },
  {
   "cell_type": "markdown",
   "id": "f718def5",
   "metadata": {},
   "source": [
    "# "
   ]
  },
  {
   "cell_type": "code",
   "execution_count": null,
   "id": "42911beb",
   "metadata": {},
   "outputs": [],
   "source": [
    "from pyspark.mllib.recommendation import ALS"
   ]
  },
  {
   "cell_type": "code",
   "execution_count": null,
   "id": "ded83afe",
   "metadata": {},
   "outputs": [],
   "source": [
    "seed, iterations, lr = 111, 10, 0.1\n",
    "#MinError先設為無限大，之後會往下取代\n",
    "errors = [0, 0, 0]\n",
    "temp = 0 \n",
    "MinError = float('inf')\n",
    "#Desired_rank先隨便設一個非正數值，等等會從ranks list中取值取代\n",
    "ranks, Desired_rank = [4, 8, 12], -1"
   ]
  },
  {
   "cell_type": "markdown",
   "id": "b7bc510b",
   "metadata": {},
   "source": [
    "# 利用ALS找出擁有最小EMSE的 Rank 值 \n",
    "\n",
    "\n",
    "### Rank值表示latent factor數量"
   ]
  },
  {
   "cell_type": "code",
   "execution_count": null,
   "id": "85978292",
   "metadata": {},
   "outputs": [],
   "source": [
    "for rank in ranks:\n",
    "    \n",
    "    #先將training set用來fit model, 通常iterations <20、 seed隨便、lambda 是 正則化的參數(具體我不知)\n",
    "    #模型會丟出model參數 : DataType為<pyspark.mllib.recommendation.MatrixFactorizationModel的matrix\n",
    "\n",
    "    ALS_model = ALS.train(training_set, rank, seed=seed, iterations=iterations, lambda_=lr)\n",
    "    print('completed model')\n",
    "    \n",
    "    \"\"\"\n",
    "    validation_set\n",
    "    \"\"\"\n",
    "    #使用fit好的模型對validation set作預測，並map成以user, movieID作key\n",
    "    #(Foramt: (user id, movie_id) )\n",
    "    predictions = ALS_model.predictAll(validation_set).map(lambda x: ((x[0], x[1]), x[2]))\n",
    "    #predictions format= [Rating(user id, movie_id, Predicted rating),....] ，\n",
    "    print('predictions completed')\n",
    "    \n",
    "    #用map整理好，以 (user id, movie_id)為key，等等跟真正的rating做inner join \n",
    "    temp = validation_set.map(lambda x: ((int(x[0]), int(x[1])), float(x[2])))\n",
    "    predictions_result = predictions.join(temp)\n",
    "    print('Join completed')\n",
    "    \n",
    "    #計算與實際rating的RSME，目標是取出最小RSME的Rank當作latent factor數量\n",
    "    error = math.pow(predictions_result.map(lambda x: (x[1][0] - x[1][1]) ** 2).mean(), 0.5)\n",
    "    print(f'Error completed, as rank equal to {rank}')\n",
    "    #依序放入error list，temp = 0,1,2,3...\n",
    "    errors[temp] = error \n",
    "    temp += 1\n",
    "    #只要該errors[err]值小於目前最低的最小error (MinError)就取代MinError\n",
    "    if error < MinError:\n",
    "        Desired_rank = rank\n",
    "        MinError = error\n",
    "    print(f'Rank: {rank}; RMSE Error: {error}')\n",
    "          \n",
    "    \n",
    "print(\"\\n\\n\")\n",
    "print('Best Rank: {}'.format(Desired_rank))"
   ]
  },
  {
   "cell_type": "code",
   "execution_count": null,
   "id": "5f199b67",
   "metadata": {},
   "outputs": [],
   "source": [
    "print(f'UwrId    mov_Id    Real.R     Estimated.R')\n",
    "recom_mum = 5\n",
    "for i in predictions_result.take(recom_mum):\n",
    "    print(f'{i[0][0]}\\t{i[0][1]}\\t {i[1][0]}\\t{round(i[1][1],5)}')"
   ]
  },
  {
   "cell_type": "markdown",
   "id": "5d19a4b4",
   "metadata": {},
   "source": [
    "## Testing Set\n",
    "\n",
    "使用test_set驗證，得到predictions_result:  0.9089997788892856"
   ]
  },
  {
   "cell_type": "code",
   "execution_count": null,
   "id": "048d1991",
   "metadata": {},
   "outputs": [],
   "source": [
    "ALS_model = ALS.train(training_set, Desired_rank, seed=seed, iterations=iterations, lambda_=lr)\n",
    "# 模型會丟出model參數 : DataType為<pyspark.mllib.recommendation.MatrixFactorizationModel的matrix\n",
    "\n",
    "##對testing set進行預測\n",
    "#input=test_set(Foramt: (user id, movie_id) )\n",
    "predictions = ALS_model.predictAll(test_set).map(lambda x: ((x[0], x[1]),x[2]))\n",
    "# 模型會丟出DataType為<pyspark.mllib.recommendation.MatrixFactorizationModel的matrix\n",
    "#[Rating(user id, movie_id, Predicted rating),....] ，用map整理好，以 (user id, movie_id)為key，等等跟真正的rating做inner join\n",
    "\n",
    "#將真正的評分與預測分數做inner join\n",
    "temp = test_set.map(lambda r: ((r[0], r[1]), float(r[2])))\n",
    "predictions_result = temp.join(predictions)\n",
    "\n",
    "#format: ((使用者, 電影), (真實分數, 預測分數))\n",
    "\n",
    "#計算預測分數與實際分數的√avg(差的平方)\n",
    "error = math.pow(predictions_result.map(lambda r: (r[1][0] - r[1][1]) ** 2).mean(), 0.5)\n",
    "print(f'test set ERROR: {error}')"
   ]
  },
  {
   "cell_type": "markdown",
   "id": "59a95f13",
   "metadata": {},
   "source": [
    "# 將預測分數與我先前計算出來預測的分數作平均\n",
    "\n",
    "***將先前PartII指定推薦推薦之結果(predcited rating)與此模型萬出之預測rating做平均值，作為優化。***"
   ]
  },
  {
   "cell_type": "markdown",
   "id": "4f588382",
   "metadata": {},
   "source": [
    "\n",
    "\n",
    "Started at 12/25 20:30\n",
    "\n",
    "# 更動項目log:\n",
    "\n",
    "\n",
    "\n",
    "1. (Completed)改動ID為數字，節省內存\n",
    "    - (Designed at 12/25 20:30)\n",
    "\n",
    "\n",
    "2. (Completed)確定cosin_sim = numerator_sum.leftOuterJoin(denominator_formatted) failed原因不是超時，而是partition設定問題\n",
    "   -  利用設定master( local[4]) 取代原本的master( local*)，資料分太細，crashed\n",
    "   - (Designed at 12/25 16:30)\n",
    "   \n",
    "   \n",
    "3. (Completed) 重新設計分母取代卡式積的可能性? \n",
    "    - (1) 不! 我們應該當分子為0 或是不存在該關係時，直接返回cosine為0? Nope 無法\n",
    "    - (2) 分子的RDD key先.leftjoin分母((mv1, mv2), rating))，這樣分子不存在的部分之後就不用跟分子join，直接大幅減少分母的row數\n",
    "          Done\n",
    "          \n",
    "          \n",
    "4. (Completed) \n",
    "    - 發現Output 有很多是成對的，例如是 ((1,2),0.33), ((2,1),0.33)這些是不需要的，有什麼辦法讓我們一開始就不會要計算算同樣的關係?\n",
    "        有，先各自filter\n",
    "    - 當mv_id 相等時，不用計算，因為cosine必定為1，不列出比較\n",
    "    \n",
    "    \n",
    "    \n",
    "5. (Completed) cosine similarity 顯示時會有同4點的問題，如何將相同關係的movie- movie只留下唯一一個，並去除自己對自己的關係ex.(1,1)?\n",
    "   關鍵字: 顯示優化  \n",
    "   \n",
    "   - (Designed at 12/25 23:00)\n",
    "6. (Completed)執行第三次real data 計算(12/25 23:00  )\n",
    "   - 會crashed\n",
    "   \n",
    "7. (Completed)已經利用pandas算出item- based的 相關係數， 可以之後當作欄位corr送進去train\n",
    "8. (Completed)已經利用pyspark mllib利用ALS 訓練， 可利用該結果當作欄位ALS送進去train\n",
    "\n",
    "9. (Completed)重新確定item based算法是否正確\n",
    "\n",
    "\n",
    "10. (Completed) 額外用sklearn依照item based要求設計出推薦系統了，想辦法將其重寫成RDD mapreduce算法\n",
    " - (Designed at 12/28 01:30)\n",
    "11. (Completed) 重要更動去除原先設計的normalized算法: item based 算normalized cosine可能導致原先存在cosine dis變成不存在 '0'\n",
    "\n",
    "12. (Completed)完工 不確定推薦分數是否正確 - (Designed at 12/27 20:55)\n",
    "\n",
    "13. (Ongoing) 確定用real data可以跑得動 (創新文件跑) \n",
    "\n",
    "- 卡在leftOuterJoin , 進行優化 - (Designed at 12/29 5:30 排除)\n",
    "\n",
    "14. (Pending)block 3常常用run all會error，要手動，原因不明\n",
    "\n",
    "15. (Completed) Socket overtime  setting\n",
    "-  (Designed at 12/29 6:45 排除)\n",
    "\n",
    "\n",
    "16. 找到論文連結:\n",
    "https://www.ra.ethz.ch/cdstore/www10/papers/pdf/p519.pdf\n",
    "\n",
    "17. (Completed) 進算法重新設計，完成到分子分母主測資能跑\n",
    "-  (Designed at 12/30 00:45 排除)\n",
    "18. (Completed) 進行將分子測資重新partition，但是不shuffle，完成partition num調整\n",
    "-  (Designed at 12/31 03:13 排除)\n",
    "\n",
    "19. (Completed) Part1完全可以在local運行\n",
    "\n",
    "20. (Completed) 重寫cosine denominator算法，優化成原先1/3耗時，並確保Part I結果完全不會time out, Error\n",
    "-  (Designed at 01/04 11:45 )\n",
    "\n",
    "21. (Completed) 利用AWS EMR運行 Part II okay\n",
    "-  (Designed at 01/04 14:35 )\n",
    "\n",
    "22. (Completed) 驗算Part I \n",
    "-  (Designed at 01/05 03:05 )\n",
    "\n",
    "24. (Completed)(推薦系統部分重寫) \n",
    "\n",
    "- (Designed at 01/05 22:14 )"
   ]
  },
  {
   "cell_type": "code",
   "execution_count": null,
   "id": "9e38ae5d",
   "metadata": {},
   "outputs": [],
   "source": []
  },
  {
   "cell_type": "code",
   "execution_count": null,
   "id": "f0dc9a6e",
   "metadata": {},
   "outputs": [],
   "source": []
  },
  {
   "cell_type": "code",
   "execution_count": null,
   "id": "6caa26d1",
   "metadata": {},
   "outputs": [],
   "source": []
  },
  {
   "cell_type": "code",
   "execution_count": null,
   "id": "59925c05",
   "metadata": {},
   "outputs": [],
   "source": []
  },
  {
   "cell_type": "code",
   "execution_count": null,
   "id": "f14738b4",
   "metadata": {},
   "outputs": [],
   "source": []
  },
  {
   "cell_type": "code",
   "execution_count": null,
   "id": "f3b15eef",
   "metadata": {},
   "outputs": [],
   "source": []
  }
 ],
 "metadata": {
  "kernelspec": {
   "display_name": "Python 3 (ipykernel)",
   "language": "python",
   "name": "python3"
  },
  "language_info": {
   "codemirror_mode": {
    "name": "ipython",
    "version": 3
   },
   "file_extension": ".py",
   "mimetype": "text/x-python",
   "name": "python",
   "nbconvert_exporter": "python",
   "pygments_lexer": "ipython3",
   "version": "3.9.0"
  }
 },
 "nbformat": 4,
 "nbformat_minor": 5
}
