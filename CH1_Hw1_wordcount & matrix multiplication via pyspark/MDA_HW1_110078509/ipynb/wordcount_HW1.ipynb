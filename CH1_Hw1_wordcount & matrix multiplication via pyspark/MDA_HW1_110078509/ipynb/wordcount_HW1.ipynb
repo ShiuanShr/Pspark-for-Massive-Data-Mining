{
 "cells": [
  {
   "cell_type": "code",
   "execution_count": 1,
   "id": "2cd25243",
   "metadata": {},
   "outputs": [
    {
     "name": "stdout",
     "output_type": "stream",
     "text": [
      "Requirement already satisfied: pyspark in c:\\spark\\python (3.1.2)\n",
      "Requirement already satisfied: py4j==0.10.9 in c:\\users\\leoshr\\appdata\\local\\programs\\python\\python39\\lib\\site-packages (from pyspark) (0.10.9)\n"
     ]
    },
    {
     "name": "stderr",
     "output_type": "stream",
     "text": [
      "WARNING: You are using pip version 20.2.3; however, version 21.2.4 is available.\n",
      "You should consider upgrading via the 'c:\\users\\leoshr\\appdata\\local\\programs\\python\\python39\\python.exe -m pip install --upgrade pip' command.\n"
     ]
    }
   ],
   "source": [
    "!pip install pyspark"
   ]
  },
  {
   "cell_type": "code",
   "execution_count": 2,
   "id": "da1c259d",
   "metadata": {
    "scrolled": true
   },
   "outputs": [],
   "source": [
    "# with open('C:\\\\Users\\\\LeoShr\\\\MDA\\\\Hw1\\\\test_wordcount.txt') as f:\n",
    "#     lines = f.readlines()\n",
    "#     print (lines)    "
   ]
  },
  {
   "cell_type": "code",
   "execution_count": 3,
   "id": "2c1c373c",
   "metadata": {},
   "outputs": [],
   "source": [
    "# 簡化測資\n",
    "test_text = 'Bus Car Train Train Plane Car Bus Bus Plane' "
   ]
  },
  {
   "cell_type": "code",
   "execution_count": 4,
   "id": "0d52e358",
   "metadata": {},
   "outputs": [],
   "source": [
    "def mapper1(test):\n",
    "    wordlist = test.split(' ')\n",
    "#    print(wordlist)\n",
    "    maplist = []\n",
    "#     i = 0\n",
    "\n",
    "    for word in wordlist:\n",
    "#         print((word,1),f'its {i} round')\n",
    "#         i = i+1\n",
    "         maplist.append((word,1))\n",
    "    return maplist\n",
    "    "
   ]
  },
  {
   "cell_type": "code",
   "execution_count": 5,
   "id": "2cbf99a9",
   "metadata": {},
   "outputs": [
    {
     "data": {
      "text/plain": [
       "[('Bus', 1),\n",
       " ('Car', 1),\n",
       " ('Train', 1),\n",
       " ('Train', 1),\n",
       " ('Plane', 1),\n",
       " ('Car', 1),\n",
       " ('Bus', 1),\n",
       " ('Bus', 1),\n",
       " ('Plane', 1)]"
      ]
     },
     "execution_count": 5,
     "metadata": {},
     "output_type": "execute_result"
    }
   ],
   "source": [
    "mapper1(test_text)"
   ]
  },
  {
   "cell_type": "code",
   "execution_count": 6,
   "id": "c16d1629",
   "metadata": {},
   "outputs": [],
   "source": [
    "def reducer1(x,y):\n",
    "    return x+y"
   ]
  },
  {
   "cell_type": "code",
   "execution_count": 7,
   "id": "f846182c",
   "metadata": {},
   "outputs": [],
   "source": [
    "\"\"\"Method 1 \"\"\" #Failed\n",
    "#print(mapping(test_text))\n",
    "# from pyspark import SparkContext\n",
    "\n",
    "import sys\n",
    "import os\n",
    "from pyspark.rdd import RDD\n",
    "from pyspark import SparkContext, SparkConf\n",
    "\n",
    "os.environ['JAVA_HOME'] = 'C:\\Program Files\\Java\\jre1.8.0_301'\n",
    "os.environ['PYSPARK_PYTHON'] = sys.executable\n",
    "os.environ['PYSPARK_DRIVER_PYTHON'] = sys.executable\n",
    "\n",
    "# #Config\n",
    "# conf = SparkConf().setMaster('local').setAppName('wordcount')\n",
    "# #Exception: Java gateway process exited before sending its port number\n",
    "# sc = SparkContext('local',conf = conf)\n",
    "# #sc = SparkContext('local[2]','First Spark app') #指定第二台核心\n",
    "\n",
    "# lines = sc.textFile('test_wordcount.txt').map(mapper1)\n",
    "# print(lines.collect())"
   ]
  },
  {
   "cell_type": "code",
   "execution_count": 8,
   "id": "5a3f709a",
   "metadata": {},
   "outputs": [],
   "source": [
    "# type(lines)"
   ]
  },
  {
   "cell_type": "code",
   "execution_count": 9,
   "id": "65fd6f89",
   "metadata": {
    "scrolled": true
   },
   "outputs": [
    {
     "name": "stdout",
     "output_type": "stream",
     "text": [
      "[('Bus', 1), ('Car', 1), ('Train', 1), ('Train', 1), ('Plane', 1), ('Car', 1), ('Bus', 1), ('Bus', 1), ('Plane', 1)]\n"
     ]
    }
   ],
   "source": [
    "#Config\n",
    "conf = SparkConf().setMaster('local').setAppName('wordcount')\n",
    "#Exception: Java gateway process exited before sending its port number\n",
    "sc = SparkContext(conf = conf)\n",
    "lines = sc.textFile(\"test_wordcount.txt\").flatMap(mapper1)\n",
    "print(lines.collect())"
   ]
  },
  {
   "cell_type": "code",
   "execution_count": 10,
   "id": "a2f21a57",
   "metadata": {},
   "outputs": [
    {
     "name": "stdout",
     "output_type": "stream",
     "text": [
      "[('Bus', 3), ('Car', 2), ('Train', 2), ('Plane', 2)]\n"
     ]
    }
   ],
   "source": [
    "lines = lines.reduceByKey(reducer1)\n",
    "print(lines.collect())"
   ]
  },
  {
   "cell_type": "code",
   "execution_count": 11,
   "id": "dc245d0e",
   "metadata": {},
   "outputs": [],
   "source": [
    "sc.stop()"
   ]
  }
 ],
 "metadata": {
  "kernelspec": {
   "display_name": "Python 3 (ipykernel)",
   "language": "python",
   "name": "python3"
  },
  "language_info": {
   "codemirror_mode": {
    "name": "ipython",
    "version": 3
   },
   "file_extension": ".py",
   "mimetype": "text/x-python",
   "name": "python",
   "nbconvert_exporter": "python",
   "pygments_lexer": "ipython3",
   "version": "3.9.0"
  }
 },
 "nbformat": 4,
 "nbformat_minor": 5
}
