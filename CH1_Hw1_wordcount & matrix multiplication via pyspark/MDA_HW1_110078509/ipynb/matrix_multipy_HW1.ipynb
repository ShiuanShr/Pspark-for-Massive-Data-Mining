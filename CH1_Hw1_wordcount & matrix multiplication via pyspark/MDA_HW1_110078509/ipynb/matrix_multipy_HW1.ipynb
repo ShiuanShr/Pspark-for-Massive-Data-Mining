{
 "cells": [
  {
   "cell_type": "code",
   "execution_count": 1,
   "id": "d1458e27",
   "metadata": {},
   "outputs": [
    {
     "name": "stdout",
     "output_type": "stream",
     "text": [
      "Requirement already satisfied: numpy in c:\\users\\leoshr\\appdata\\local\\programs\\python\\python39\\lib\\site-packages (1.21.2)\n"
     ]
    },
    {
     "name": "stderr",
     "output_type": "stream",
     "text": [
      "WARNING: You are using pip version 20.2.3; however, version 21.2.4 is available.\n",
      "You should consider upgrading via the 'c:\\users\\leoshr\\appdata\\local\\programs\\python\\python39\\python.exe -m pip install --upgrade pip' command.\n"
     ]
    },
    {
     "name": "stdout",
     "output_type": "stream",
     "text": [
      "Requirement already satisfied: pyspark in c:\\spark\\python (3.1.2)\n",
      "Requirement already satisfied: py4j==0.10.9 in c:\\users\\leoshr\\appdata\\local\\programs\\python\\python39\\lib\\site-packages (from pyspark) (0.10.9)\n",
      "3.9.0\n"
     ]
    },
    {
     "name": "stderr",
     "output_type": "stream",
     "text": [
      "WARNING: You are using pip version 20.2.3; however, version 21.2.4 is available.\n",
      "You should consider upgrading via the 'c:\\users\\leoshr\\appdata\\local\\programs\\python\\python39\\python.exe -m pip install --upgrade pip' command.\n"
     ]
    }
   ],
   "source": [
    "from platform import python_version\n",
    "!pip install numpy \n",
    "!pip install pyspark\n",
    "import numpy as np\n",
    "print(python_version())"
   ]
  },
  {
   "cell_type": "code",
   "execution_count": 2,
   "id": "b5b9c8b2",
   "metadata": {},
   "outputs": [],
   "source": [
    "#https://stackoverflow.com/questions/44348527/matrix-multiplication-at-a-in-pyspark\n",
    "#https://data-flair.training/blogs/apache-spark-map-vs-flatmap/"
   ]
  },
  {
   "cell_type": "code",
   "execution_count": 3,
   "id": "178f52f4",
   "metadata": {},
   "outputs": [],
   "source": [
    "# def mapper1(test):\n",
    "#     wordlist = test.split(' ')\n",
    "# #    print(wordlist)\n",
    "#     maplist = []\n",
    "# #     i = 0\n",
    "\n",
    "#     for word in wordlist:\n",
    "# #         print((word,1),f'its {i} round')\n",
    "# #         i = i+1\n",
    "#          maplist.append((word,1))\n",
    "#     return maplist"
   ]
  },
  {
   "cell_type": "code",
   "execution_count": 4,
   "id": "be3ecacf",
   "metadata": {},
   "outputs": [],
   "source": [
    "# def reducer1(x,y):\n",
    "#     return x+y"
   ]
  },
  {
   "cell_type": "code",
   "execution_count": 5,
   "id": "b8fb85bc",
   "metadata": {},
   "outputs": [],
   "source": [
    "\"\"\"Method 1 \"\"\" #Failed\n",
    "#print(mapping(test_text))\n",
    "# from pyspark import SparkContext\n",
    "\n",
    "import sys\n",
    "import os\n",
    "from pyspark.rdd import RDD\n",
    "from pyspark import SparkContext, SparkConf\n",
    "\n",
    "os.environ['JAVA_HOME'] = 'C:/Program Files/Java/jre1.8.0_301'\n",
    "os.environ['PYSPARK_PYTHON'] = sys.executable\n",
    "os.environ['PYSPARK_DRIVER_PYTHON'] = sys.executable"
   ]
  },
  {
   "cell_type": "code",
   "execution_count": 6,
   "id": "459661af",
   "metadata": {},
   "outputs": [],
   "source": [
    "# #Config\n",
    "# conf = SparkConf().setMaster('local').setAppName('wordcount')\n",
    "# #Exception: Java gateway process exited before sending its port number\n",
    "# sc = SparkContext(conf = conf)\n",
    "# # 用test_wordcount.txt測試看看wordcount功能\n",
    "# lines = sc.textFile(\"test_wordcount.txt\").flatMap(mapper1)\n",
    "# print(lines.collect())"
   ]
  },
  {
   "cell_type": "code",
   "execution_count": 7,
   "id": "92287ee7",
   "metadata": {},
   "outputs": [],
   "source": [
    "# #wordcount功能 (可略)\n",
    "# lines = lines.reduceByKey(reducer1)\n",
    "# print(lines.collect())\n",
    "# sc.stop() #pause the SparkConf(), then re-run 'conf = SparkConf().setMaster('local').setAppName('wordcount')'"
   ]
  },
  {
   "cell_type": "code",
   "execution_count": 8,
   "id": "1c7686e7",
   "metadata": {},
   "outputs": [],
   "source": [
    "#sc.stop()"
   ]
  },
  {
   "cell_type": "markdown",
   "id": "4e2c8dbd",
   "metadata": {},
   "source": [
    "# 矩陣運算功能 matrix mutiply with map reduce\n",
    "\n",
    "使用 pyspark 時：\n",
    "- 禁止使用DataFrame APi 和 Spark SQL(代表SparkSession禁止使用)\n",
    "- 必須使用到map reduce，用numpy.dot與for loop解也不行\n",
    "- 禁止在「input 與 output 以外的情境」使用 Python List\n",
    "- Report 可以直接以 markdown 形式寫在 jupyter notebook 當中\n",
    "- 可以使用任何pyspark rdd 的 transformation api \n",
    "- collect function 避免於「input 與 output 以外的情境」使用"
   ]
  },
  {
   "cell_type": "code",
   "execution_count": 9,
   "id": "596c7d03",
   "metadata": {},
   "outputs": [
    {
     "name": "stdout",
     "output_type": "stream",
     "text": [
      "########\n"
     ]
    }
   ],
   "source": [
    "conf = SparkConf().setMaster('local').setAppName('matrix')\n",
    "#Exception: Java gateway process exited before sending its port number\n",
    "sc = SparkContext(conf = conf)\n",
    "\n",
    "\"\"\"matrix1_lil.txt testing record\"\"\"\n",
    "#C:/Spark/matrix1_lil.txt\n",
    "#file:/C:/Users/LeoShr/MDA/matrix1_lil.txt\n",
    "#C:/Users/LeoShr/MDA/matrix1_lil.txt\n",
    "#C:\\\\Users\\LeoShr\\MDA\\\\matrix1_lil.txt\n",
    "#C://Users/LeoShr/MDA//matrix1_lil.txt\n",
    "#file:///C://Users/LeoShr/MDA//matrix1_lil.txt\n",
    "rdd_matrix_1 = sc.textFile(\"file:///C://Users/LeoShr/MDA///matrix1_lil.txt\").map(lambda line: line.split(' ')).map(lambda line: [int(x) for x in line])\n",
    "rdd_matrix_2 = sc.textFile(\"file:///C://Users/LeoShr/MDA///matrix2_lil.txt\").map(lambda line: line.split(' ')).map(lambda line: [int(x) for x in line])\n",
    "\n",
    "#終於找到解法: file:///C://Users/LeoShr/MDA///matrix1_lil.txt  (noted 06:60 am 2021/10/06)\n",
    "\n",
    "\n",
    "#map(lambda line: line.split(' '))\n",
    "#對每一行裡面使用空格作為分割符號，最後再合併起來。最後資料變成[1, 4, 0, 4, 5,...] list[string]的形式\n",
    "print('########')"
   ]
  },
  {
   "cell_type": "code",
   "execution_count": 10,
   "id": "ff92852c",
   "metadata": {},
   "outputs": [],
   "source": [
    "# loadmatrix is a helper function used to read matrix1.txt and format from RDD of strings to RDD of list of int\n",
    "# def loadmatrix(sc):\n",
    "#     rdd_matrix_1 = sc.textFile(\"file:/C/Users/LeoShr/MDA/matrix1_lil.txt\")\n",
    "#     m1 = rdd_matrix_1.map(lambda line: line.split(' ')).map(lambda line: [int(x) for x in line])\n",
    "#     rdd_matrix_2 = sc.textFile(\"file:/C/Users/LeoShr/MDA/matrix2_lil.txt\")\n",
    "#     m2 = rdd_matrix_2.map(lambda line: line.split(' ')).map(lambda line: [int(x) for x in line])\n",
    "#     print('rdd_matrix_1_counting:\\n',rdd_matrix_1.count,'\\n')\n",
    "#     print('rdd_matrix_2_counting:\\n',rdd_matrix_2.count,'\\n')\n",
    "\n",
    "#     return(m1,m2) \n",
    "# m1, m2 = loadmatrix(sc)"
   ]
  },
  {
   "cell_type": "code",
   "execution_count": 14,
   "id": "bfb846dc",
   "metadata": {},
   "outputs": [
    {
     "ename": "Py4JJavaError",
     "evalue": "An error occurred while calling o22.partitions.\n: org.apache.hadoop.mapred.InvalidInputException: Input path does not exist: file:/C:/Users/LeoShr/MDA/matrix1_lil.txt\r\n\tat org.apache.hadoop.mapred.FileInputFormat.singleThreadedListStatus(FileInputFormat.java:297)\r\n\tat org.apache.hadoop.mapred.FileInputFormat.listStatus(FileInputFormat.java:239)\r\n\tat org.apache.hadoop.mapred.FileInputFormat.getSplits(FileInputFormat.java:325)\r\n\tat org.apache.spark.rdd.HadoopRDD.getPartitions(HadoopRDD.scala:205)\r\n\tat org.apache.spark.rdd.RDD.$anonfun$partitions$2(RDD.scala:300)\r\n\tat scala.Option.getOrElse(Option.scala:189)\r\n\tat org.apache.spark.rdd.RDD.partitions(RDD.scala:296)\r\n\tat org.apache.spark.rdd.MapPartitionsRDD.getPartitions(MapPartitionsRDD.scala:49)\r\n\tat org.apache.spark.rdd.RDD.$anonfun$partitions$2(RDD.scala:300)\r\n\tat scala.Option.getOrElse(Option.scala:189)\r\n\tat org.apache.spark.rdd.RDD.partitions(RDD.scala:296)\r\n\tat org.apache.spark.api.java.JavaRDDLike.partitions(JavaRDDLike.scala:61)\r\n\tat org.apache.spark.api.java.JavaRDDLike.partitions$(JavaRDDLike.scala:61)\r\n\tat org.apache.spark.api.java.AbstractJavaRDDLike.partitions(JavaRDDLike.scala:45)\r\n\tat sun.reflect.NativeMethodAccessorImpl.invoke0(Native Method)\r\n\tat sun.reflect.NativeMethodAccessorImpl.invoke(Unknown Source)\r\n\tat sun.reflect.DelegatingMethodAccessorImpl.invoke(Unknown Source)\r\n\tat java.lang.reflect.Method.invoke(Unknown Source)\r\n\tat py4j.reflection.MethodInvoker.invoke(MethodInvoker.java:244)\r\n\tat py4j.reflection.ReflectionEngine.invoke(ReflectionEngine.java:357)\r\n\tat py4j.Gateway.invoke(Gateway.java:282)\r\n\tat py4j.commands.AbstractCommand.invokeMethod(AbstractCommand.java:132)\r\n\tat py4j.commands.CallCommand.execute(CallCommand.java:79)\r\n\tat py4j.GatewayConnection.run(GatewayConnection.java:238)\r\n\tat java.lang.Thread.run(Unknown Source)\r\n",
     "output_type": "error",
     "traceback": [
      "\u001b[1;31m---------------------------------------------------------------------------\u001b[0m",
      "\u001b[1;31mPy4JJavaError\u001b[0m                             Traceback (most recent call last)",
      "\u001b[1;32m~\\AppData\\Local\\Temp/ipykernel_15032/2993644384.py\u001b[0m in \u001b[0;36m<module>\u001b[1;34m\u001b[0m\n\u001b[1;32m----> 1\u001b[1;33m \u001b[0mrdd_matrix_1\u001b[0m\u001b[1;33m.\u001b[0m\u001b[0mtake\u001b[0m\u001b[1;33m(\u001b[0m\u001b[1;36m1\u001b[0m\u001b[1;33m)\u001b[0m\u001b[1;33m\u001b[0m\u001b[1;33m\u001b[0m\u001b[0m\n\u001b[0m",
      "\u001b[1;32mC:\\Spark\\python\\pyspark\\rdd.py\u001b[0m in \u001b[0;36mtake\u001b[1;34m(self, num)\u001b[0m\n\u001b[0;32m   1531\u001b[0m         \"\"\"\n\u001b[0;32m   1532\u001b[0m         \u001b[0mitems\u001b[0m \u001b[1;33m=\u001b[0m \u001b[1;33m[\u001b[0m\u001b[1;33m]\u001b[0m\u001b[1;33m\u001b[0m\u001b[1;33m\u001b[0m\u001b[0m\n\u001b[1;32m-> 1533\u001b[1;33m         \u001b[0mtotalParts\u001b[0m \u001b[1;33m=\u001b[0m \u001b[0mself\u001b[0m\u001b[1;33m.\u001b[0m\u001b[0mgetNumPartitions\u001b[0m\u001b[1;33m(\u001b[0m\u001b[1;33m)\u001b[0m\u001b[1;33m\u001b[0m\u001b[1;33m\u001b[0m\u001b[0m\n\u001b[0m\u001b[0;32m   1534\u001b[0m         \u001b[0mpartsScanned\u001b[0m \u001b[1;33m=\u001b[0m \u001b[1;36m0\u001b[0m\u001b[1;33m\u001b[0m\u001b[1;33m\u001b[0m\u001b[0m\n\u001b[0;32m   1535\u001b[0m \u001b[1;33m\u001b[0m\u001b[0m\n",
      "\u001b[1;32mC:\\Spark\\python\\pyspark\\rdd.py\u001b[0m in \u001b[0;36mgetNumPartitions\u001b[1;34m(self)\u001b[0m\n\u001b[0;32m   2933\u001b[0m \u001b[1;33m\u001b[0m\u001b[0m\n\u001b[0;32m   2934\u001b[0m     \u001b[1;32mdef\u001b[0m \u001b[0mgetNumPartitions\u001b[0m\u001b[1;33m(\u001b[0m\u001b[0mself\u001b[0m\u001b[1;33m)\u001b[0m\u001b[1;33m:\u001b[0m\u001b[1;33m\u001b[0m\u001b[1;33m\u001b[0m\u001b[0m\n\u001b[1;32m-> 2935\u001b[1;33m         \u001b[1;32mreturn\u001b[0m \u001b[0mself\u001b[0m\u001b[1;33m.\u001b[0m\u001b[0m_prev_jrdd\u001b[0m\u001b[1;33m.\u001b[0m\u001b[0mpartitions\u001b[0m\u001b[1;33m(\u001b[0m\u001b[1;33m)\u001b[0m\u001b[1;33m.\u001b[0m\u001b[0msize\u001b[0m\u001b[1;33m(\u001b[0m\u001b[1;33m)\u001b[0m\u001b[1;33m\u001b[0m\u001b[1;33m\u001b[0m\u001b[0m\n\u001b[0m\u001b[0;32m   2936\u001b[0m \u001b[1;33m\u001b[0m\u001b[0m\n\u001b[0;32m   2937\u001b[0m     \u001b[1;33m@\u001b[0m\u001b[0mproperty\u001b[0m\u001b[1;33m\u001b[0m\u001b[1;33m\u001b[0m\u001b[0m\n",
      "\u001b[1;32mC:\\Spark\\python\\lib\\py4j-0.10.9-src.zip\\py4j\\java_gateway.py\u001b[0m in \u001b[0;36m__call__\u001b[1;34m(self, *args)\u001b[0m\n\u001b[0;32m   1302\u001b[0m \u001b[1;33m\u001b[0m\u001b[0m\n\u001b[0;32m   1303\u001b[0m         \u001b[0manswer\u001b[0m \u001b[1;33m=\u001b[0m \u001b[0mself\u001b[0m\u001b[1;33m.\u001b[0m\u001b[0mgateway_client\u001b[0m\u001b[1;33m.\u001b[0m\u001b[0msend_command\u001b[0m\u001b[1;33m(\u001b[0m\u001b[0mcommand\u001b[0m\u001b[1;33m)\u001b[0m\u001b[1;33m\u001b[0m\u001b[1;33m\u001b[0m\u001b[0m\n\u001b[1;32m-> 1304\u001b[1;33m         return_value = get_return_value(\n\u001b[0m\u001b[0;32m   1305\u001b[0m             answer, self.gateway_client, self.target_id, self.name)\n\u001b[0;32m   1306\u001b[0m \u001b[1;33m\u001b[0m\u001b[0m\n",
      "\u001b[1;32mC:\\Spark\\python\\lib\\py4j-0.10.9-src.zip\\py4j\\protocol.py\u001b[0m in \u001b[0;36mget_return_value\u001b[1;34m(answer, gateway_client, target_id, name)\u001b[0m\n\u001b[0;32m    324\u001b[0m             \u001b[0mvalue\u001b[0m \u001b[1;33m=\u001b[0m \u001b[0mOUTPUT_CONVERTER\u001b[0m\u001b[1;33m[\u001b[0m\u001b[0mtype\u001b[0m\u001b[1;33m]\u001b[0m\u001b[1;33m(\u001b[0m\u001b[0manswer\u001b[0m\u001b[1;33m[\u001b[0m\u001b[1;36m2\u001b[0m\u001b[1;33m:\u001b[0m\u001b[1;33m]\u001b[0m\u001b[1;33m,\u001b[0m \u001b[0mgateway_client\u001b[0m\u001b[1;33m)\u001b[0m\u001b[1;33m\u001b[0m\u001b[1;33m\u001b[0m\u001b[0m\n\u001b[0;32m    325\u001b[0m             \u001b[1;32mif\u001b[0m \u001b[0manswer\u001b[0m\u001b[1;33m[\u001b[0m\u001b[1;36m1\u001b[0m\u001b[1;33m]\u001b[0m \u001b[1;33m==\u001b[0m \u001b[0mREFERENCE_TYPE\u001b[0m\u001b[1;33m:\u001b[0m\u001b[1;33m\u001b[0m\u001b[1;33m\u001b[0m\u001b[0m\n\u001b[1;32m--> 326\u001b[1;33m                 raise Py4JJavaError(\n\u001b[0m\u001b[0;32m    327\u001b[0m                     \u001b[1;34m\"An error occurred while calling {0}{1}{2}.\\n\"\u001b[0m\u001b[1;33m.\u001b[0m\u001b[1;33m\u001b[0m\u001b[1;33m\u001b[0m\u001b[0m\n\u001b[0;32m    328\u001b[0m                     format(target_id, \".\", name), value)\n",
      "\u001b[1;31mPy4JJavaError\u001b[0m: An error occurred while calling o22.partitions.\n: org.apache.hadoop.mapred.InvalidInputException: Input path does not exist: file:/C:/Users/LeoShr/MDA/matrix1_lil.txt\r\n\tat org.apache.hadoop.mapred.FileInputFormat.singleThreadedListStatus(FileInputFormat.java:297)\r\n\tat org.apache.hadoop.mapred.FileInputFormat.listStatus(FileInputFormat.java:239)\r\n\tat org.apache.hadoop.mapred.FileInputFormat.getSplits(FileInputFormat.java:325)\r\n\tat org.apache.spark.rdd.HadoopRDD.getPartitions(HadoopRDD.scala:205)\r\n\tat org.apache.spark.rdd.RDD.$anonfun$partitions$2(RDD.scala:300)\r\n\tat scala.Option.getOrElse(Option.scala:189)\r\n\tat org.apache.spark.rdd.RDD.partitions(RDD.scala:296)\r\n\tat org.apache.spark.rdd.MapPartitionsRDD.getPartitions(MapPartitionsRDD.scala:49)\r\n\tat org.apache.spark.rdd.RDD.$anonfun$partitions$2(RDD.scala:300)\r\n\tat scala.Option.getOrElse(Option.scala:189)\r\n\tat org.apache.spark.rdd.RDD.partitions(RDD.scala:296)\r\n\tat org.apache.spark.api.java.JavaRDDLike.partitions(JavaRDDLike.scala:61)\r\n\tat org.apache.spark.api.java.JavaRDDLike.partitions$(JavaRDDLike.scala:61)\r\n\tat org.apache.spark.api.java.AbstractJavaRDDLike.partitions(JavaRDDLike.scala:45)\r\n\tat sun.reflect.NativeMethodAccessorImpl.invoke0(Native Method)\r\n\tat sun.reflect.NativeMethodAccessorImpl.invoke(Unknown Source)\r\n\tat sun.reflect.DelegatingMethodAccessorImpl.invoke(Unknown Source)\r\n\tat java.lang.reflect.Method.invoke(Unknown Source)\r\n\tat py4j.reflection.MethodInvoker.invoke(MethodInvoker.java:244)\r\n\tat py4j.reflection.ReflectionEngine.invoke(ReflectionEngine.java:357)\r\n\tat py4j.Gateway.invoke(Gateway.java:282)\r\n\tat py4j.commands.AbstractCommand.invokeMethod(AbstractCommand.java:132)\r\n\tat py4j.commands.CallCommand.execute(CallCommand.java:79)\r\n\tat py4j.GatewayConnection.run(GatewayConnection.java:238)\r\n\tat java.lang.Thread.run(Unknown Source)\r\n"
     ]
    }
   ],
   "source": [
    "rdd_matrix_1.take(1)"
   ]
  },
  {
   "cell_type": "code",
   "execution_count": 12,
   "id": "5221ff0d",
   "metadata": {},
   "outputs": [
    {
     "ename": "IndentationError",
     "evalue": "unindent does not match any outer indentation level (<tokenize>, line 34)",
     "output_type": "error",
     "traceback": [
      "\u001b[1;36m  File \u001b[1;32m\"<tokenize>\"\u001b[1;36m, line \u001b[1;32m34\u001b[0m\n\u001b[1;33m    if key == current_key:\u001b[0m\n\u001b[1;37m    ^\u001b[0m\n\u001b[1;31mIndentationError\u001b[0m\u001b[1;31m:\u001b[0m unindent does not match any outer indentation level\n"
     ]
    }
   ],
   "source": [
    "#variable n should be set to the inner dimension of the matrix product (i.e., the number of columns of A/rows of B)\n",
    "\n",
    "import sys\n",
    "import string\n",
    "# import numpy as np\n",
    "\n",
    "#number of columns of A/rows of B\n",
    "n = int(sys.argv[int(float(1))]) \n",
    "\n",
    "#Create data structures to hold the current row/column values\n",
    "current_key = None\n",
    "current_res = 0.0\n",
    "value_dict = dict()\n",
    "\n",
    "# input comes from STDIN (stream data that goes to the program)\n",
    "for line in sys.stdin:\n",
    "\n",
    "  #Remove leading and trailing whitespace\n",
    "  line = line.strip()\n",
    "    \n",
    "  #Get key/value\n",
    "  key, value = line.split('\\t',1)\n",
    "  \n",
    "  #Parse key/value input\n",
    "    try:\n",
    "        row, col = map(int, key.split(','))\n",
    "        value = value.split(',')\n",
    "        key = (row, col)\n",
    "        replicate_key, element_value = int(value[1]), float(value[2])\n",
    "    except:\n",
    "        continue\n",
    "\n",
    "      #If we are still on the same key...\n",
    "        if key == current_key:\n",
    "    \n",
    "        #Process key/value pair\n",
    "            if replicate_key not in value_dict:\n",
    "                value_dict[replicate_key] = [element_value]\n",
    "            else:\n",
    "                value_dict[replicate_key].append(element_value)\n",
    "\n",
    "  #Otherwise, if this is a new key...\n",
    "        else:\n",
    "    \n",
    "    #If this is a new key and not the first key we've seen\n",
    "            if current_key:\n",
    "      \n",
    "      #compute/output result to STDOUT\n",
    "                for j in range(n):\n",
    "                    if (j in value_dict) and (len(value_dict[j]) == 2):\n",
    "                        current_res += value_dict[j][0] * value_dict[j][1]\n",
    "                        print ('({0:d},{1:d}),{2:f}'.format(row, col, current_res))\n",
    "  \n",
    "                        current_key = key\n",
    "    value_dict = dict()\n",
    "    \n",
    "    #Process input for new key\n",
    "    value_dict[replicate_key] = [element_value]\n",
    "    current_res = 0.0\n",
    "\n",
    "\n",
    "#Compute/output result for the last key \n",
    "\n",
    "if current_key:\n",
    "    for j in range(n):\n",
    "        if (j in value_dict) and (len(value_dict[j]) == 2):\n",
    "            current_res += value_dict[j][0] * value_dict[j][1]\n",
    "            print('({0:d},{1:d}),{2:f}'.format(row, col, current_res))\n"
   ]
  }
 ],
 "metadata": {
  "kernelspec": {
   "display_name": "Python 3 (ipykernel)",
   "language": "python",
   "name": "python3"
  },
  "language_info": {
   "codemirror_mode": {
    "name": "ipython",
    "version": 3
   },
   "file_extension": ".py",
   "mimetype": "text/x-python",
   "name": "python",
   "nbconvert_exporter": "python",
   "pygments_lexer": "ipython3",
   "version": "3.9.0"
  }
 },
 "nbformat": 4,
 "nbformat_minor": 5
}
