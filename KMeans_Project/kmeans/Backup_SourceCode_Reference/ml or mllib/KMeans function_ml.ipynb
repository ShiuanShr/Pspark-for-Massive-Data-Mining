{
 "cells": [
  {
   "cell_type": "markdown",
   "id": "8f0c94fe",
   "metadata": {},
   "source": [
    "# KMeans function\n",
    "\n",
    "https://spark.apache.org/docs/latest/api/python/reference/api/pyspark.ml.clustering.KMeans.html\n",
    "\n"
   ]
  },
  {
   "cell_type": "code",
   "execution_count": 2,
   "id": "250260de",
   "metadata": {},
   "outputs": [
    {
     "name": "stdout",
     "output_type": "stream",
     "text": [
      "sc:<SparkContext master=local appName=Kmeans>\n"
     ]
    }
   ],
   "source": [
    "#api for k-means algo\n",
    "from pyspark.ml.clustering import KMeans,KMeansModel\n",
    "\n",
    "#ClusteringEvaluator\n",
    "from pyspark.ml.evaluation import ClusteringEvaluator\n",
    "#https://spark.apache.org/docs/latest/api/python/reference/api/pyspark.ml.evaluation.ClusteringEvaluator.html\n",
    "#The metric computes the Silhouette measure using the squared Euclidean distance.\n",
    "\n",
    "from numpy import array\n",
    "from math import sqrt\n",
    "\n",
    "#Build the api for the entrance\n",
    "from pyspark.context import SparkContext,SparkConf\n",
    "from pyspark.rdd import RDD\n",
    "from pyspark.sql import SparkSession\n",
    "import os\n",
    "import sys\n",
    "\n",
    "\n",
    "#Config\n",
    "os.environ['JAVA_HOME'] = 'C:\\Program Files\\Java\\jre1.8.0_301'\n",
    "os.environ['PYSPARK_PYTHON'] = sys.executable\n",
    "os.environ['PYSPARK_DRIVER_PYTHON'] = sys.executable\n",
    "\n",
    "\n",
    "sc = SparkContext(conf=SparkConf().setAppName(\"Kmeans\").setMaster(\"local\"))\n",
    "print(f'sc:{sc}')\n",
    "spark = SparkSession(sc)"
   ]
  },
  {
   "cell_type": "code",
   "execution_count": 14,
   "id": "eab45266",
   "metadata": {},
   "outputs": [
    {
     "data": {
      "text/plain": [
       "[(DenseVector([0.0, 0.0]), 2.0),\n",
       " (DenseVector([1.0, 1.0]), 2.0),\n",
       " (DenseVector([9.0, 8.0]), 2.0),\n",
       " (DenseVector([8.0, 9.0]), 2.0)]"
      ]
     },
     "execution_count": 14,
     "metadata": {},
     "output_type": "execute_result"
    }
   ],
   "source": [
    "from pyspark.ml.linalg import Vectors\n",
    "data = [(Vectors.dense([0.0, 0.0]), 2.0), (Vectors.dense([1.0, 1.0]), 2.0),\n",
    "        (Vectors.dense([9.0, 8.0]), 2.0), (Vectors.dense([8.0, 9.0]), 2.0)]\n",
    "data"
   ]
  },
  {
   "cell_type": "code",
   "execution_count": 6,
   "id": "71d09834",
   "metadata": {},
   "outputs": [
    {
     "data": {
      "text/plain": [
       "[Row(features=DenseVector([0.0, 0.0]), weighCol=2.0),\n",
       " Row(features=DenseVector([1.0, 1.0]), weighCol=2.0),\n",
       " Row(features=DenseVector([9.0, 8.0]), weighCol=2.0),\n",
       " Row(features=DenseVector([8.0, 9.0]), weighCol=2.0)]"
      ]
     },
     "execution_count": 6,
     "metadata": {},
     "output_type": "execute_result"
    }
   ],
   "source": [
    "df = spark.createDataFrame(data, [\"features\", \"weighCol\"])\n",
    "df.collect()"
   ]
  },
  {
   "cell_type": "code",
   "execution_count": 15,
   "id": "bb7eb1ba",
   "metadata": {},
   "outputs": [],
   "source": [
    "kmeans = KMeans(k=2)"
   ]
  },
  {
   "cell_type": "code",
   "execution_count": 16,
   "id": "d6e7845d",
   "metadata": {},
   "outputs": [
    {
     "data": {
      "text/plain": [
       "KMeans_910f28006274"
      ]
     },
     "execution_count": 16,
     "metadata": {},
     "output_type": "execute_result"
    }
   ],
   "source": [
    "kmeans.setSeed(1)"
   ]
  },
  {
   "cell_type": "code",
   "execution_count": 17,
   "id": "542928f7",
   "metadata": {},
   "outputs": [
    {
     "data": {
      "text/plain": [
       "KMeans_910f28006274"
      ]
     },
     "execution_count": 17,
     "metadata": {},
     "output_type": "execute_result"
    }
   ],
   "source": [
    "kmeans.setWeightCol(\"weighCol\")"
   ]
  },
  {
   "cell_type": "code",
   "execution_count": 18,
   "id": "ad5e59ff",
   "metadata": {},
   "outputs": [
    {
     "data": {
      "text/plain": [
       "KMeans_910f28006274"
      ]
     },
     "execution_count": 18,
     "metadata": {},
     "output_type": "execute_result"
    }
   ],
   "source": [
    "kmeans.setMaxIter(10)"
   ]
  },
  {
   "cell_type": "code",
   "execution_count": 19,
   "id": "b456ded7",
   "metadata": {},
   "outputs": [
    {
     "data": {
      "text/plain": [
       "10"
      ]
     },
     "execution_count": 19,
     "metadata": {},
     "output_type": "execute_result"
    }
   ],
   "source": [
    "kmeans.getMaxIter()"
   ]
  },
  {
   "cell_type": "code",
   "execution_count": 20,
   "id": "24958e30",
   "metadata": {},
   "outputs": [],
   "source": [
    "kmeans.clear(kmeans.maxIter)"
   ]
  },
  {
   "cell_type": "markdown",
   "id": "d6ba81ee",
   "metadata": {},
   "source": [
    "## Build Model"
   ]
  },
  {
   "cell_type": "code",
   "execution_count": 21,
   "id": "5fac612a",
   "metadata": {},
   "outputs": [],
   "source": [
    "model = kmeans.fit(df)"
   ]
  },
  {
   "cell_type": "code",
   "execution_count": 23,
   "id": "b32b46ad",
   "metadata": {},
   "outputs": [
    {
     "data": {
      "text/plain": [
       "'euclidean'"
      ]
     },
     "execution_count": 23,
     "metadata": {},
     "output_type": "execute_result"
    }
   ],
   "source": [
    "model.getDistanceMeasure()"
   ]
  },
  {
   "cell_type": "code",
   "execution_count": 24,
   "id": "53483cb4",
   "metadata": {},
   "outputs": [
    {
     "data": {
      "text/plain": [
       "KMeansModel: uid=KMeans_910f28006274, k=2, distanceMeasure=euclidean, numFeatures=2"
      ]
     },
     "execution_count": 24,
     "metadata": {},
     "output_type": "execute_result"
    }
   ],
   "source": [
    "model.setPredictionCol(\"newPrediction\")"
   ]
  },
  {
   "cell_type": "code",
   "execution_count": 25,
   "id": "524a92c2",
   "metadata": {},
   "outputs": [
    {
     "data": {
      "text/plain": [
       "0"
      ]
     },
     "execution_count": 25,
     "metadata": {},
     "output_type": "execute_result"
    }
   ],
   "source": [
    "model.predict(df.head().features)"
   ]
  },
  {
   "cell_type": "code",
   "execution_count": 26,
   "id": "ce2d834c",
   "metadata": {},
   "outputs": [],
   "source": [
    "centers = model.clusterCenters()"
   ]
  },
  {
   "cell_type": "code",
   "execution_count": 27,
   "id": "6c7e60a6",
   "metadata": {},
   "outputs": [
    {
     "data": {
      "text/plain": [
       "2"
      ]
     },
     "execution_count": 27,
     "metadata": {},
     "output_type": "execute_result"
    }
   ],
   "source": [
    "len(centers)"
   ]
  },
  {
   "cell_type": "code",
   "execution_count": 28,
   "id": "82e51f5b",
   "metadata": {},
   "outputs": [],
   "source": [
    "transformed = model.transform(df).select(\"features\", \"newPrediction\")"
   ]
  },
  {
   "cell_type": "code",
   "execution_count": 30,
   "id": "5818cb64",
   "metadata": {},
   "outputs": [
    {
     "data": {
      "text/plain": [
       "[Row(features=DenseVector([0.0, 0.0]), newPrediction=0),\n",
       " Row(features=DenseVector([1.0, 1.0]), newPrediction=0),\n",
       " Row(features=DenseVector([9.0, 8.0]), newPrediction=1),\n",
       " Row(features=DenseVector([8.0, 9.0]), newPrediction=1)]"
      ]
     },
     "execution_count": 30,
     "metadata": {},
     "output_type": "execute_result"
    }
   ],
   "source": [
    "rows = transformed.collect()\n",
    "rows"
   ]
  },
  {
   "cell_type": "code",
   "execution_count": 31,
   "id": "03e92df8",
   "metadata": {},
   "outputs": [
    {
     "data": {
      "text/plain": [
       "True"
      ]
     },
     "execution_count": 31,
     "metadata": {},
     "output_type": "execute_result"
    }
   ],
   "source": [
    "rows[0].newPrediction == rows[1].newPrediction\n"
   ]
  },
  {
   "cell_type": "code",
   "execution_count": 32,
   "id": "3cb48043",
   "metadata": {},
   "outputs": [
    {
     "data": {
      "text/plain": [
       "True"
      ]
     },
     "execution_count": 32,
     "metadata": {},
     "output_type": "execute_result"
    }
   ],
   "source": [
    "rows[2].newPrediction == rows[3].newPrediction\n"
   ]
  },
  {
   "cell_type": "code",
   "execution_count": 33,
   "id": "917490f1",
   "metadata": {},
   "outputs": [
    {
     "data": {
      "text/plain": [
       "True"
      ]
     },
     "execution_count": 33,
     "metadata": {},
     "output_type": "execute_result"
    }
   ],
   "source": [
    "model.hasSummary\n"
   ]
  },
  {
   "cell_type": "code",
   "execution_count": 36,
   "id": "17958155",
   "metadata": {},
   "outputs": [
    {
     "data": {
      "text/plain": [
       "[2, 2]"
      ]
     },
     "execution_count": 36,
     "metadata": {},
     "output_type": "execute_result"
    }
   ],
   "source": [
    "summary = model.summary\n",
    "summary.clusterSizes"
   ]
  },
  {
   "cell_type": "code",
   "execution_count": 37,
   "id": "54f2ca67",
   "metadata": {},
   "outputs": [
    {
     "data": {
      "text/plain": [
       "4.0"
      ]
     },
     "execution_count": 37,
     "metadata": {},
     "output_type": "execute_result"
    }
   ],
   "source": [
    "summary.trainingCost"
   ]
  },
  {
   "cell_type": "markdown",
   "id": "ecb1f883",
   "metadata": {},
   "source": [
    "### Save the output \n"
   ]
  },
  {
   "cell_type": "code",
   "execution_count": 45,
   "id": "a7a7ec48",
   "metadata": {},
   "outputs": [
    {
     "name": "stdout",
     "output_type": "stream",
     "text": [
      "C:\\Users\\LeoShr\\p_space\\NTHU\\MDA\\CH3_K_means\n"
     ]
    }
   ],
   "source": [
    "print(os.path.abspath('.'))"
   ]
  },
  {
   "cell_type": "code",
   "execution_count": 48,
   "id": "4f6596a4",
   "metadata": {
    "scrolled": false
   },
   "outputs": [],
   "source": [
    "temp_path = os.path.abspath('.')"
   ]
  },
  {
   "cell_type": "code",
   "execution_count": null,
   "id": "6c182375",
   "metadata": {},
   "outputs": [],
   "source": [
    "# kmeans_path = temp_path + \"/kmeans\"\n",
    "# kmeans.save(kmeans_path)\n",
    "# kmeans2 = KMeans.load(kmeans_path)\n",
    "# kmeans2.getK()\n",
    "\n",
    "# model_path = temp_path + \"/kmeans_model\"\n",
    "# model.save(model_path)\n",
    "# model2 = KMeansModel.load(model_path)\n",
    "# model2.hasSummary\n",
    "\n",
    "\n",
    "# model.clusterCenters()[0] == model2.clusterCenters()[0]\n",
    "# array([ True,  True], dtype=bool)\n",
    "# model.clusterCenters()[1] == model2.clusterCenters()[1]\n",
    "# array([ True,  True], dtype=bool)\n",
    "# model.transform(df).take(1) == model2.transform(df).take(1)\n"
   ]
  },
  {
   "cell_type": "code",
   "execution_count": null,
   "id": "71bd81a9",
   "metadata": {},
   "outputs": [],
   "source": []
  },
  {
   "cell_type": "code",
   "execution_count": null,
   "id": "02b1cb83",
   "metadata": {},
   "outputs": [],
   "source": []
  },
  {
   "cell_type": "code",
   "execution_count": null,
   "id": "0f5e9bda",
   "metadata": {},
   "outputs": [],
   "source": []
  },
  {
   "cell_type": "code",
   "execution_count": null,
   "id": "15745ebf",
   "metadata": {},
   "outputs": [],
   "source": []
  },
  {
   "cell_type": "code",
   "execution_count": null,
   "id": "cb16fc7f",
   "metadata": {},
   "outputs": [],
   "source": []
  },
  {
   "cell_type": "code",
   "execution_count": null,
   "id": "a53a4b8e",
   "metadata": {},
   "outputs": [],
   "source": []
  }
 ],
 "metadata": {
  "kernelspec": {
   "display_name": "Python 3 (ipykernel)",
   "language": "python",
   "name": "python3"
  },
  "language_info": {
   "codemirror_mode": {
    "name": "ipython",
    "version": 3
   },
   "file_extension": ".py",
   "mimetype": "text/x-python",
   "name": "python",
   "nbconvert_exporter": "python",
   "pygments_lexer": "ipython3",
   "version": "3.9.0"
  }
 },
 "nbformat": 4,
 "nbformat_minor": 5
}
