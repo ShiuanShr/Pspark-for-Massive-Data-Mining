{
 "cells": [
  {
   "cell_type": "markdown",
   "id": "6b78d751",
   "metadata": {},
   "source": [
    "https://github.com/farhanafayez/PySpark-K-means-Clustering-ML\n",
    "\n",
    "This jupyter notebook consists a project which implemets K mean clustering with PySpark. Meta data of each session showed that the hackers used to connect to their servers were found, for system that was breached. This data is used whether to identify whether 2 or 3 hackers were involved of the potential 3 hackers"
   ]
  },
  {
   "cell_type": "code",
   "execution_count": 2,
   "id": "fcbc2ba5",
   "metadata": {},
   "outputs": [
    {
     "name": "stderr",
     "output_type": "stream",
     "text": [
      "WARNING: You are using pip version 20.2.3; however, version 21.3.1 is available.\n",
      "You should consider upgrading via the 'c:\\users\\leoshr\\appdata\\local\\programs\\python\\python39\\python.exe -m pip install --upgrade pip' command.\n"
     ]
    },
    {
     "name": "stdout",
     "output_type": "stream",
     "text": [
      "Requirement already satisfied: psutil in c:\\users\\leoshr\\appdata\\local\\programs\\python\\python39\\lib\\site-packages (5.8.0)\n",
      "sc:<SparkContext master=local appName=Kmeans>\n"
     ]
    }
   ],
   "source": [
    "import os\n",
    "import sys\n",
    "from pyspark.context import SparkContext,SparkConf\n",
    "from pyspark.rdd import RDD\n",
    "!pip install psutil\n",
    "import psutil\n",
    "#若沒有下面這段\n",
    "#會有Exception: Java gateway process exited before sending its port number\n",
    "#Config\n",
    "os.environ['JAVA_HOME'] = 'C:\\Program Files\\Java\\jre1.8.0_301'\n",
    "os.environ['PYSPARK_PYTHON'] = sys.executable\n",
    "os.environ['PYSPARK_DRIVER_PYTHON'] = sys.executable\n",
    "\n",
    "\n",
    "sc = SparkContext(conf=SparkConf().setAppName(\"Kmeans\").setMaster(\"local\"))\n",
    "print(f'sc:{sc}')\n",
    "spark = SparkSession(sc)\n"
   ]
  },
  {
   "cell_type": "code",
   "execution_count": null,
   "id": "fed3f5a5",
   "metadata": {},
   "outputs": [],
   "source": []
  },
  {
   "cell_type": "code",
   "execution_count": 3,
   "id": "fcbef17c",
   "metadata": {},
   "outputs": [],
   "source": [
    "path = r'C:\\Users\\LeoShr\\p_space\\NTHU\\MDA\\CH3_K_means\\Project\\K-means-clustering-using-pyspark-main\\hack_data.csv'\n",
    "data = spark.read.csv(path,header=True,inferSchema=True)\n",
    "\n"
   ]
  },
  {
   "cell_type": "code",
   "execution_count": 4,
   "id": "1d2af9ee",
   "metadata": {},
   "outputs": [],
   "source": [
    "# data_path = r'C:\\Users\\LeoShr\\p_space\\NTHU\\MDA\\CH3_K_means\\Project\\K-means-clustering-using-pyspark-main\\hack_data.csv'\n",
    "# data = spark.read.csv('data_path',header=True,inferSchema=True)\n",
    "# import csv\n",
    "# files = open(r'C:\\Users\\LeoShr\\p_space\\NTHU\\MDA\\CH3_K_means\\Project\\K-means-clustering-using-pyspark-main\\hack_data.csv','r', encoding = 'UTF-8')\n",
    "# files\n",
    "# dd = csv.reader(files)\n",
    "# print(list(dd))"
   ]
  },
  {
   "cell_type": "markdown",
   "id": "5bea0485",
   "metadata": {},
   "source": [
    "#### Data exploration"
   ]
  },
  {
   "cell_type": "code",
   "execution_count": 5,
   "id": "9c85ffbf",
   "metadata": {},
   "outputs": [
    {
     "name": "stdout",
     "output_type": "stream",
     "text": [
      "root\n",
      " |-- Session_Connection_Time: double (nullable = true)\n",
      " |-- Bytes Transferred: double (nullable = true)\n",
      " |-- Kali_Trace_Used: integer (nullable = true)\n",
      " |-- Servers_Corrupted: double (nullable = true)\n",
      " |-- Pages_Corrupted: double (nullable = true)\n",
      " |-- Location: string (nullable = true)\n",
      " |-- WPM_Typing_Speed: double (nullable = true)\n",
      "\n"
     ]
    }
   ],
   "source": [
    "data.printSchema()"
   ]
  },
  {
   "cell_type": "code",
   "execution_count": 6,
   "id": "0f08d11f",
   "metadata": {},
   "outputs": [
    {
     "data": {
      "text/plain": [
       "[Row(Session_Connection_Time=8.0, Bytes Transferred=391.09, Kali_Trace_Used=1, Servers_Corrupted=2.96, Pages_Corrupted=7.0, Location='Slovenia', WPM_Typing_Speed=72.37)]"
      ]
     },
     "execution_count": 6,
     "metadata": {},
     "output_type": "execute_result"
    }
   ],
   "source": [
    "data.head(1)"
   ]
  },
  {
   "cell_type": "markdown",
   "id": "724a55e4",
   "metadata": {},
   "source": [
    "### Creating features vector"
   ]
  },
  {
   "cell_type": "code",
   "execution_count": 7,
   "id": "2829b42a",
   "metadata": {},
   "outputs": [
    {
     "data": {
      "text/plain": [
       "['Session_Connection_Time',\n",
       " 'Bytes Transferred',\n",
       " 'Kali_Trace_Used',\n",
       " 'Servers_Corrupted',\n",
       " 'Pages_Corrupted',\n",
       " 'Location',\n",
       " 'WPM_Typing_Speed']"
      ]
     },
     "execution_count": 7,
     "metadata": {},
     "output_type": "execute_result"
    }
   ],
   "source": [
    "from pyspark.ml.feature import VectorAssembler\n",
    "data.columns"
   ]
  },
  {
   "cell_type": "code",
   "execution_count": 8,
   "id": "78904925",
   "metadata": {},
   "outputs": [],
   "source": [
    "assembler = VectorAssembler(inputCols=['Session_Connection_Time',\n",
    " 'Bytes Transferred',\n",
    " 'Kali_Trace_Used',\n",
    " 'Servers_Corrupted',\n",
    " 'Pages_Corrupted',\n",
    " 'WPM_Typing_Speed'], outputCol='features')"
   ]
  },
  {
   "cell_type": "code",
   "execution_count": 9,
   "id": "90038416",
   "metadata": {},
   "outputs": [
    {
     "name": "stdout",
     "output_type": "stream",
     "text": [
      "root\n",
      " |-- Session_Connection_Time: double (nullable = true)\n",
      " |-- Bytes Transferred: double (nullable = true)\n",
      " |-- Kali_Trace_Used: integer (nullable = true)\n",
      " |-- Servers_Corrupted: double (nullable = true)\n",
      " |-- Pages_Corrupted: double (nullable = true)\n",
      " |-- Location: string (nullable = true)\n",
      " |-- WPM_Typing_Speed: double (nullable = true)\n",
      " |-- features: vector (nullable = true)\n",
      "\n"
     ]
    }
   ],
   "source": [
    "final_data = assembler.transform(data)\n",
    "final_data.printSchema()"
   ]
  },
  {
   "cell_type": "markdown",
   "id": "d6f4c4ab",
   "metadata": {},
   "source": [
    "### Scaling the data"
   ]
  },
  {
   "cell_type": "code",
   "execution_count": 10,
   "id": "cd4c51ec",
   "metadata": {},
   "outputs": [],
   "source": [
    "from pyspark.ml.feature import StandardScaler"
   ]
  },
  {
   "cell_type": "code",
   "execution_count": 11,
   "id": "cbf35ddd",
   "metadata": {},
   "outputs": [],
   "source": [
    "scaler = StandardScaler(inputCol='features',outputCol='scaledFeat')"
   ]
  },
  {
   "cell_type": "code",
   "execution_count": 12,
   "id": "a12fd00b",
   "metadata": {},
   "outputs": [],
   "source": [
    "final_data = scaler.fit(final_data).transform(final_data)"
   ]
  },
  {
   "cell_type": "code",
   "execution_count": 13,
   "id": "ef6d77ae",
   "metadata": {},
   "outputs": [
    {
     "name": "stdout",
     "output_type": "stream",
     "text": [
      "root\n",
      " |-- Session_Connection_Time: double (nullable = true)\n",
      " |-- Bytes Transferred: double (nullable = true)\n",
      " |-- Kali_Trace_Used: integer (nullable = true)\n",
      " |-- Servers_Corrupted: double (nullable = true)\n",
      " |-- Pages_Corrupted: double (nullable = true)\n",
      " |-- Location: string (nullable = true)\n",
      " |-- WPM_Typing_Speed: double (nullable = true)\n",
      " |-- features: vector (nullable = true)\n",
      " |-- scaledFeat: vector (nullable = true)\n",
      "\n"
     ]
    }
   ],
   "source": [
    "final_data.printSchema()"
   ]
  },
  {
   "cell_type": "markdown",
   "id": "2ecb356f",
   "metadata": {},
   "source": [
    "### K-means clustering model"
   ]
  },
  {
   "cell_type": "code",
   "execution_count": 14,
   "id": "b744deeb",
   "metadata": {},
   "outputs": [],
   "source": [
    "from pyspark.ml.clustering import KMeans"
   ]
  },
  {
   "cell_type": "code",
   "execution_count": 15,
   "id": "a5229d03",
   "metadata": {},
   "outputs": [],
   "source": [
    "# let's try with the assumption that there were two hacker groups\n",
    "kmeans = KMeans(featuresCol='scaledFeat',k=2)"
   ]
  },
  {
   "cell_type": "code",
   "execution_count": 16,
   "id": "0ca97b53",
   "metadata": {},
   "outputs": [],
   "source": [
    "model = kmeans.fit(final_data)"
   ]
  },
  {
   "cell_type": "code",
   "execution_count": 17,
   "id": "2da9c961",
   "metadata": {},
   "outputs": [
    {
     "name": "stdout",
     "output_type": "stream",
     "text": [
      "[array([2.99991988, 2.92319035, 1.05261534, 3.20390443, 4.51321315,\n",
      "       3.28474   ]), array([1.26023837, 1.31829808, 0.99280765, 1.36491885, 2.5625043 ,\n",
      "       5.26676612])]\n"
     ]
    }
   ],
   "source": [
    "centers = model.clusterCenters()\n",
    "print(centers)"
   ]
  },
  {
   "cell_type": "code",
   "execution_count": 18,
   "id": "fa01d63c",
   "metadata": {},
   "outputs": [],
   "source": [
    "results = model.transform(final_data)"
   ]
  },
  {
   "cell_type": "code",
   "execution_count": 19,
   "id": "3a458b50",
   "metadata": {},
   "outputs": [
    {
     "name": "stdout",
     "output_type": "stream",
     "text": [
      "root\n",
      " |-- Session_Connection_Time: double (nullable = true)\n",
      " |-- Bytes Transferred: double (nullable = true)\n",
      " |-- Kali_Trace_Used: integer (nullable = true)\n",
      " |-- Servers_Corrupted: double (nullable = true)\n",
      " |-- Pages_Corrupted: double (nullable = true)\n",
      " |-- Location: string (nullable = true)\n",
      " |-- WPM_Typing_Speed: double (nullable = true)\n",
      " |-- features: vector (nullable = true)\n",
      " |-- scaledFeat: vector (nullable = true)\n",
      " |-- prediction: integer (nullable = false)\n",
      "\n"
     ]
    }
   ],
   "source": [
    "results.printSchema()"
   ]
  },
  {
   "cell_type": "code",
   "execution_count": 20,
   "id": "93c60840",
   "metadata": {},
   "outputs": [
    {
     "name": "stdout",
     "output_type": "stream",
     "text": [
      "+-------+-----------------------+------------------+------------------+-----------------+------------------+-----------+------------------+------------------+\n",
      "|summary|Session_Connection_Time| Bytes Transferred|   Kali_Trace_Used|Servers_Corrupted|   Pages_Corrupted|   Location|  WPM_Typing_Speed|        prediction|\n",
      "+-------+-----------------------+------------------+------------------+-----------------+------------------+-----------+------------------+------------------+\n",
      "|  count|                    334|               334|               334|              334|               334|        334|               334|               334|\n",
      "|   mean|     30.008982035928145| 607.2452694610777|0.5119760479041916|5.258502994011977|10.838323353293413|       null|57.342395209580864|               0.5|\n",
      "| stddev|     14.088200614636158|286.33593163576757|0.5006065264451406| 2.30190693339697|  3.06352633036022|       null| 13.41106336843464|0.5007501879687625|\n",
      "|    min|                    1.0|              10.0|                 0|              1.0|               6.0|Afghanistan|              40.0|                 0|\n",
      "|    max|                   60.0|            1330.5|                 1|             10.0|              15.0|   Zimbabwe|              75.0|                 1|\n",
      "+-------+-----------------------+------------------+------------------+-----------------+------------------+-----------+------------------+------------------+\n",
      "\n"
     ]
    }
   ],
   "source": [
    "results.describe().show()"
   ]
  },
  {
   "cell_type": "code",
   "execution_count": 21,
   "id": "5ff8a0c3",
   "metadata": {},
   "outputs": [
    {
     "name": "stdout",
     "output_type": "stream",
     "text": [
      "+----------+-----+\n",
      "|prediction|count|\n",
      "+----------+-----+\n",
      "|         1|  167|\n",
      "|         0|  167|\n",
      "+----------+-----+\n",
      "\n"
     ]
    }
   ],
   "source": [
    "results.groupBy('prediction').count().show()\n",
    "# This shows that the attack was equaly sheared by the hacker groups"
   ]
  },
  {
   "cell_type": "markdown",
   "id": "100e43dc",
   "metadata": {},
   "source": [
    "### Graphical visualization of the clusters"
   ]
  },
  {
   "cell_type": "code",
   "execution_count": 22,
   "id": "740741f9",
   "metadata": {},
   "outputs": [
    {
     "name": "stdout",
     "output_type": "stream",
     "text": [
      "Python 3.9.0\n",
      "Requirement already satisfied: pandas in c:\\users\\leoshr\\appdata\\local\\programs\\python\\python39\\lib\\site-packages (1.3.4)\n",
      "Requirement already satisfied: numpy>=1.17.3; platform_machine != \"aarch64\" and platform_machine != \"arm64\" and python_version < \"3.10\" in c:\\users\\leoshr\\appdata\\local\\programs\\python\\python39\\lib\\site-packages (from pandas) (1.21.2)\n",
      "Requirement already satisfied: python-dateutil>=2.7.3 in c:\\users\\leoshr\\appdata\\local\\programs\\python\\python39\\lib\\site-packages (from pandas) (2.8.2)\n",
      "Requirement already satisfied: pytz>=2017.3 in c:\\users\\leoshr\\appdata\\local\\programs\\python\\python39\\lib\\site-packages (from pandas) (2021.3)\n",
      "Requirement already satisfied: six>=1.5 in c:\\users\\leoshr\\appdata\\local\\programs\\python\\python39\\lib\\site-packages (from python-dateutil>=2.7.3->pandas) (1.16.0)\n"
     ]
    },
    {
     "name": "stderr",
     "output_type": "stream",
     "text": [
      "WARNING: You are using pip version 20.2.3; however, version 21.3.1 is available.\n",
      "You should consider upgrading via the 'c:\\users\\leoshr\\appdata\\local\\programs\\python\\python39\\python.exe -m pip install --upgrade pip' command.\n"
     ]
    }
   ],
   "source": [
    "!python -V \n",
    "!pip install pandas\n",
    "import pandas"
   ]
  },
  {
   "cell_type": "code",
   "execution_count": 23,
   "id": "c180f9f1",
   "metadata": {},
   "outputs": [
    {
     "name": "stdout",
     "output_type": "stream",
     "text": [
      "Requirement already satisfied: matplotlib in c:\\users\\leoshr\\appdata\\local\\programs\\python\\python39\\lib\\site-packages (3.4.3)\n",
      "Requirement already satisfied: kiwisolver>=1.0.1 in c:\\users\\leoshr\\appdata\\local\\programs\\python\\python39\\lib\\site-packages (from matplotlib) (1.3.2)\n",
      "Requirement already satisfied: numpy>=1.16 in c:\\users\\leoshr\\appdata\\local\\programs\\python\\python39\\lib\\site-packages (from matplotlib) (1.21.2)\n",
      "Requirement already satisfied: pillow>=6.2.0 in c:\\users\\leoshr\\appdata\\local\\programs\\python\\python39\\lib\\site-packages (from matplotlib) (8.4.0)\n",
      "Requirement already satisfied: pyparsing>=2.2.1 in c:\\users\\leoshr\\appdata\\local\\programs\\python\\python39\\lib\\site-packages (from matplotlib) (2.4.7)\n",
      "Requirement already satisfied: cycler>=0.10 in c:\\users\\leoshr\\appdata\\local\\programs\\python\\python39\\lib\\site-packages (from matplotlib) (0.11.0)\n",
      "Requirement already satisfied: python-dateutil>=2.7 in c:\\users\\leoshr\\appdata\\local\\programs\\python\\python39\\lib\\site-packages (from matplotlib) (2.8.2)\n",
      "Requirement already satisfied: six>=1.5 in c:\\users\\leoshr\\appdata\\local\\programs\\python\\python39\\lib\\site-packages (from python-dateutil>=2.7->matplotlib) (1.16.0)\n"
     ]
    },
    {
     "name": "stderr",
     "output_type": "stream",
     "text": [
      "WARNING: You are using pip version 20.2.3; however, version 21.3.1 is available.\n",
      "You should consider upgrading via the 'c:\\users\\leoshr\\appdata\\local\\programs\\python\\python39\\python.exe -m pip install --upgrade pip' command.\n"
     ]
    }
   ],
   "source": [
    "!pip install matplotlib\n",
    "import matplotlib.pyplot as plt\n",
    "%matplotlib inline"
   ]
  },
  {
   "cell_type": "code",
   "execution_count": 24,
   "id": "51bdd973",
   "metadata": {},
   "outputs": [
    {
     "data": {
      "text/html": [
       "<div>\n",
       "<style scoped>\n",
       "    .dataframe tbody tr th:only-of-type {\n",
       "        vertical-align: middle;\n",
       "    }\n",
       "\n",
       "    .dataframe tbody tr th {\n",
       "        vertical-align: top;\n",
       "    }\n",
       "\n",
       "    .dataframe thead th {\n",
       "        text-align: right;\n",
       "    }\n",
       "</style>\n",
       "<table border=\"1\" class=\"dataframe\">\n",
       "  <thead>\n",
       "    <tr style=\"text-align: right;\">\n",
       "      <th></th>\n",
       "      <th>Session_Connection_Time</th>\n",
       "      <th>Bytes Transferred</th>\n",
       "      <th>Kali_Trace_Used</th>\n",
       "      <th>Servers_Corrupted</th>\n",
       "      <th>Pages_Corrupted</th>\n",
       "      <th>Location</th>\n",
       "      <th>WPM_Typing_Speed</th>\n",
       "      <th>features</th>\n",
       "      <th>scaledFeat</th>\n",
       "      <th>prediction</th>\n",
       "    </tr>\n",
       "  </thead>\n",
       "  <tbody>\n",
       "    <tr>\n",
       "      <th>0</th>\n",
       "      <td>8.0</td>\n",
       "      <td>391.09</td>\n",
       "      <td>1</td>\n",
       "      <td>2.96</td>\n",
       "      <td>7.0</td>\n",
       "      <td>Slovenia</td>\n",
       "      <td>72.37</td>\n",
       "      <td>[8.0, 391.09, 1.0, 2.96, 7.0, 72.37]</td>\n",
       "      <td>[0.5678510846650524, 1.3658432518957642, 1.997...</td>\n",
       "      <td>1</td>\n",
       "    </tr>\n",
       "    <tr>\n",
       "      <th>1</th>\n",
       "      <td>20.0</td>\n",
       "      <td>720.99</td>\n",
       "      <td>0</td>\n",
       "      <td>3.04</td>\n",
       "      <td>9.0</td>\n",
       "      <td>British Virgin Islands</td>\n",
       "      <td>69.08</td>\n",
       "      <td>[20.0, 720.99, 0.0, 3.04, 9.0, 69.08]</td>\n",
       "      <td>[1.419627711662631, 2.517986463945197, 0.0, 1....</td>\n",
       "      <td>1</td>\n",
       "    </tr>\n",
       "    <tr>\n",
       "      <th>2</th>\n",
       "      <td>31.0</td>\n",
       "      <td>356.32</td>\n",
       "      <td>1</td>\n",
       "      <td>3.71</td>\n",
       "      <td>8.0</td>\n",
       "      <td>Tokelau</td>\n",
       "      <td>70.58</td>\n",
       "      <td>[31.0, 356.32, 1.0, 3.71, 8.0, 70.58]</td>\n",
       "      <td>[2.2004229530770782, 1.2444124562517545, 1.997...</td>\n",
       "      <td>1</td>\n",
       "    </tr>\n",
       "    <tr>\n",
       "      <th>3</th>\n",
       "      <td>2.0</td>\n",
       "      <td>228.08</td>\n",
       "      <td>1</td>\n",
       "      <td>2.48</td>\n",
       "      <td>8.0</td>\n",
       "      <td>Bolivia</td>\n",
       "      <td>70.80</td>\n",
       "      <td>[2.0, 228.08, 1.0, 2.48, 8.0, 70.8]</td>\n",
       "      <td>[0.1419627711662631, 0.7965469045293562, 1.997...</td>\n",
       "      <td>1</td>\n",
       "    </tr>\n",
       "    <tr>\n",
       "      <th>4</th>\n",
       "      <td>20.0</td>\n",
       "      <td>408.50</td>\n",
       "      <td>0</td>\n",
       "      <td>3.57</td>\n",
       "      <td>8.0</td>\n",
       "      <td>Iraq</td>\n",
       "      <td>71.28</td>\n",
       "      <td>[20.0, 408.5, 0.0, 3.57, 8.0, 71.28]</td>\n",
       "      <td>[1.419627711662631, 1.4266459597520256, 0.0, 1...</td>\n",
       "      <td>1</td>\n",
       "    </tr>\n",
       "    <tr>\n",
       "      <th>...</th>\n",
       "      <td>...</td>\n",
       "      <td>...</td>\n",
       "      <td>...</td>\n",
       "      <td>...</td>\n",
       "      <td>...</td>\n",
       "      <td>...</td>\n",
       "      <td>...</td>\n",
       "      <td>...</td>\n",
       "      <td>...</td>\n",
       "      <td>...</td>\n",
       "    </tr>\n",
       "    <tr>\n",
       "      <th>329</th>\n",
       "      <td>39.0</td>\n",
       "      <td>761.91</td>\n",
       "      <td>1</td>\n",
       "      <td>6.99</td>\n",
       "      <td>14.0</td>\n",
       "      <td>Belarus</td>\n",
       "      <td>43.23</td>\n",
       "      <td>[39.0, 761.91, 1.0, 6.99, 14.0, 43.23]</td>\n",
       "      <td>[2.7682740377421307, 2.660895528016318, 1.9975...</td>\n",
       "      <td>0</td>\n",
       "    </tr>\n",
       "    <tr>\n",
       "      <th>330</th>\n",
       "      <td>43.0</td>\n",
       "      <td>983.48</td>\n",
       "      <td>0</td>\n",
       "      <td>8.60</td>\n",
       "      <td>13.0</td>\n",
       "      <td>British Indian Ocean Territory (Chagos Archipe...</td>\n",
       "      <td>43.21</td>\n",
       "      <td>[43.0, 983.48, 0.0, 8.6, 13.0, 43.21]</td>\n",
       "      <td>[3.0521995800746566, 3.4347068996252683, 0.0, ...</td>\n",
       "      <td>0</td>\n",
       "    </tr>\n",
       "    <tr>\n",
       "      <th>331</th>\n",
       "      <td>39.0</td>\n",
       "      <td>690.22</td>\n",
       "      <td>1</td>\n",
       "      <td>6.80</td>\n",
       "      <td>13.0</td>\n",
       "      <td>Guinea-Bissau</td>\n",
       "      <td>42.75</td>\n",
       "      <td>[39.0, 690.22, 1.0, 6.8, 13.0, 42.75]</td>\n",
       "      <td>[2.7682740377421307, 2.4105252737822354, 1.997...</td>\n",
       "      <td>0</td>\n",
       "    </tr>\n",
       "    <tr>\n",
       "      <th>332</th>\n",
       "      <td>36.0</td>\n",
       "      <td>1060.69</td>\n",
       "      <td>1</td>\n",
       "      <td>6.26</td>\n",
       "      <td>14.0</td>\n",
       "      <td>Canada</td>\n",
       "      <td>43.86</td>\n",
       "      <td>[36.0, 1060.69, 1.0, 6.26, 14.0, 43.86]</td>\n",
       "      <td>[2.555329880992736, 3.704355209423197, 1.99757...</td>\n",
       "      <td>0</td>\n",
       "    </tr>\n",
       "    <tr>\n",
       "      <th>333</th>\n",
       "      <td>42.0</td>\n",
       "      <td>729.47</td>\n",
       "      <td>0</td>\n",
       "      <td>7.95</td>\n",
       "      <td>14.0</td>\n",
       "      <td>Tuvalu</td>\n",
       "      <td>45.27</td>\n",
       "      <td>[42.0, 729.47, 0.0, 7.95, 14.0, 45.27]</td>\n",
       "      <td>[2.9812181944915253, 2.5476020275650186, 0.0, ...</td>\n",
       "      <td>0</td>\n",
       "    </tr>\n",
       "  </tbody>\n",
       "</table>\n",
       "<p>334 rows × 10 columns</p>\n",
       "</div>"
      ],
      "text/plain": [
       "     Session_Connection_Time  Bytes Transferred  Kali_Trace_Used  \\\n",
       "0                        8.0             391.09                1   \n",
       "1                       20.0             720.99                0   \n",
       "2                       31.0             356.32                1   \n",
       "3                        2.0             228.08                1   \n",
       "4                       20.0             408.50                0   \n",
       "..                       ...                ...              ...   \n",
       "329                     39.0             761.91                1   \n",
       "330                     43.0             983.48                0   \n",
       "331                     39.0             690.22                1   \n",
       "332                     36.0            1060.69                1   \n",
       "333                     42.0             729.47                0   \n",
       "\n",
       "     Servers_Corrupted  Pages_Corrupted  \\\n",
       "0                 2.96              7.0   \n",
       "1                 3.04              9.0   \n",
       "2                 3.71              8.0   \n",
       "3                 2.48              8.0   \n",
       "4                 3.57              8.0   \n",
       "..                 ...              ...   \n",
       "329               6.99             14.0   \n",
       "330               8.60             13.0   \n",
       "331               6.80             13.0   \n",
       "332               6.26             14.0   \n",
       "333               7.95             14.0   \n",
       "\n",
       "                                              Location  WPM_Typing_Speed  \\\n",
       "0                                             Slovenia             72.37   \n",
       "1                               British Virgin Islands             69.08   \n",
       "2                                              Tokelau             70.58   \n",
       "3                                              Bolivia             70.80   \n",
       "4                                                 Iraq             71.28   \n",
       "..                                                 ...               ...   \n",
       "329                                            Belarus             43.23   \n",
       "330  British Indian Ocean Territory (Chagos Archipe...             43.21   \n",
       "331                                      Guinea-Bissau             42.75   \n",
       "332                                             Canada             43.86   \n",
       "333                                             Tuvalu             45.27   \n",
       "\n",
       "                                    features  \\\n",
       "0       [8.0, 391.09, 1.0, 2.96, 7.0, 72.37]   \n",
       "1      [20.0, 720.99, 0.0, 3.04, 9.0, 69.08]   \n",
       "2      [31.0, 356.32, 1.0, 3.71, 8.0, 70.58]   \n",
       "3        [2.0, 228.08, 1.0, 2.48, 8.0, 70.8]   \n",
       "4       [20.0, 408.5, 0.0, 3.57, 8.0, 71.28]   \n",
       "..                                       ...   \n",
       "329   [39.0, 761.91, 1.0, 6.99, 14.0, 43.23]   \n",
       "330    [43.0, 983.48, 0.0, 8.6, 13.0, 43.21]   \n",
       "331    [39.0, 690.22, 1.0, 6.8, 13.0, 42.75]   \n",
       "332  [36.0, 1060.69, 1.0, 6.26, 14.0, 43.86]   \n",
       "333   [42.0, 729.47, 0.0, 7.95, 14.0, 45.27]   \n",
       "\n",
       "                                            scaledFeat  prediction  \n",
       "0    [0.5678510846650524, 1.3658432518957642, 1.997...           1  \n",
       "1    [1.419627711662631, 2.517986463945197, 0.0, 1....           1  \n",
       "2    [2.2004229530770782, 1.2444124562517545, 1.997...           1  \n",
       "3    [0.1419627711662631, 0.7965469045293562, 1.997...           1  \n",
       "4    [1.419627711662631, 1.4266459597520256, 0.0, 1...           1  \n",
       "..                                                 ...         ...  \n",
       "329  [2.7682740377421307, 2.660895528016318, 1.9975...           0  \n",
       "330  [3.0521995800746566, 3.4347068996252683, 0.0, ...           0  \n",
       "331  [2.7682740377421307, 2.4105252737822354, 1.997...           0  \n",
       "332  [2.555329880992736, 3.704355209423197, 1.99757...           0  \n",
       "333  [2.9812181944915253, 2.5476020275650186, 0.0, ...           0  \n",
       "\n",
       "[334 rows x 10 columns]"
      ]
     },
     "execution_count": 24,
     "metadata": {},
     "output_type": "execute_result"
    }
   ],
   "source": [
    "results_pd = results.toPandas()\n",
    "results_pd"
   ]
  },
  {
   "cell_type": "code",
   "execution_count": 25,
   "id": "eb1a461c",
   "metadata": {},
   "outputs": [
    {
     "ename": "ValueError",
     "evalue": "The truth value of a Series is ambiguous. Use a.empty, a.bool(), a.item(), a.any() or a.all().",
     "output_type": "error",
     "traceback": [
      "\u001b[1;31m---------------------------------------------------------------------------\u001b[0m",
      "\u001b[1;31mValueError\u001b[0m                                Traceback (most recent call last)",
      "\u001b[1;32m~\\AppData\\Local\\Temp/ipykernel_13356/2544407623.py\u001b[0m in \u001b[0;36m<module>\u001b[1;34m\u001b[0m\n\u001b[1;32m----> 1\u001b[1;33m \u001b[0mplot\u001b[0m \u001b[1;33m=\u001b[0m \u001b[0mplt\u001b[0m\u001b[1;33m.\u001b[0m\u001b[0mscatter\u001b[0m\u001b[1;33m(\u001b[0m\u001b[0mdata\u001b[0m\u001b[1;33m=\u001b[0m\u001b[0mresults_pd\u001b[0m\u001b[1;33m,\u001b[0m \u001b[0mx\u001b[0m\u001b[1;33m=\u001b[0m\u001b[0mresults_pd\u001b[0m\u001b[1;33m.\u001b[0m\u001b[0mindex\u001b[0m\u001b[1;33m,\u001b[0m \u001b[0my\u001b[0m\u001b[1;33m=\u001b[0m\u001b[0mresults_pd\u001b[0m\u001b[1;33m[\u001b[0m\u001b[1;34m'Bytes Transferred'\u001b[0m\u001b[1;33m]\u001b[0m\u001b[1;33m,\u001b[0m\u001b[0mc\u001b[0m\u001b[1;33m=\u001b[0m\u001b[0mresults_pd\u001b[0m\u001b[1;33m[\u001b[0m\u001b[1;34m'prediction'\u001b[0m\u001b[1;33m]\u001b[0m\u001b[1;33m)\u001b[0m\u001b[1;33m\u001b[0m\u001b[1;33m\u001b[0m\u001b[0m\n\u001b[0m\u001b[0;32m      2\u001b[0m \u001b[0mplt\u001b[0m\u001b[1;33m.\u001b[0m\u001b[0mylabel\u001b[0m\u001b[1;33m(\u001b[0m\u001b[1;34m'Bytes Transferred'\u001b[0m\u001b[1;33m)\u001b[0m\u001b[1;33m\u001b[0m\u001b[1;33m\u001b[0m\u001b[0m\n",
      "\u001b[1;32mc:\\users\\leoshr\\appdata\\local\\programs\\python\\python39\\lib\\site-packages\\matplotlib\\pyplot.py\u001b[0m in \u001b[0;36mscatter\u001b[1;34m(x, y, s, c, marker, cmap, norm, vmin, vmax, alpha, linewidths, edgecolors, plotnonfinite, data, **kwargs)\u001b[0m\n\u001b[0;32m   3066\u001b[0m         \u001b[0mvmin\u001b[0m\u001b[1;33m=\u001b[0m\u001b[1;32mNone\u001b[0m\u001b[1;33m,\u001b[0m \u001b[0mvmax\u001b[0m\u001b[1;33m=\u001b[0m\u001b[1;32mNone\u001b[0m\u001b[1;33m,\u001b[0m \u001b[0malpha\u001b[0m\u001b[1;33m=\u001b[0m\u001b[1;32mNone\u001b[0m\u001b[1;33m,\u001b[0m \u001b[0mlinewidths\u001b[0m\u001b[1;33m=\u001b[0m\u001b[1;32mNone\u001b[0m\u001b[1;33m,\u001b[0m \u001b[1;33m*\u001b[0m\u001b[1;33m,\u001b[0m\u001b[1;33m\u001b[0m\u001b[1;33m\u001b[0m\u001b[0m\n\u001b[0;32m   3067\u001b[0m         edgecolors=None, plotnonfinite=False, data=None, **kwargs):\n\u001b[1;32m-> 3068\u001b[1;33m     __ret = gca().scatter(\n\u001b[0m\u001b[0;32m   3069\u001b[0m         \u001b[0mx\u001b[0m\u001b[1;33m,\u001b[0m \u001b[0my\u001b[0m\u001b[1;33m,\u001b[0m \u001b[0ms\u001b[0m\u001b[1;33m=\u001b[0m\u001b[0ms\u001b[0m\u001b[1;33m,\u001b[0m \u001b[0mc\u001b[0m\u001b[1;33m=\u001b[0m\u001b[0mc\u001b[0m\u001b[1;33m,\u001b[0m \u001b[0mmarker\u001b[0m\u001b[1;33m=\u001b[0m\u001b[0mmarker\u001b[0m\u001b[1;33m,\u001b[0m \u001b[0mcmap\u001b[0m\u001b[1;33m=\u001b[0m\u001b[0mcmap\u001b[0m\u001b[1;33m,\u001b[0m \u001b[0mnorm\u001b[0m\u001b[1;33m=\u001b[0m\u001b[0mnorm\u001b[0m\u001b[1;33m,\u001b[0m\u001b[1;33m\u001b[0m\u001b[1;33m\u001b[0m\u001b[0m\n\u001b[0;32m   3070\u001b[0m         \u001b[0mvmin\u001b[0m\u001b[1;33m=\u001b[0m\u001b[0mvmin\u001b[0m\u001b[1;33m,\u001b[0m \u001b[0mvmax\u001b[0m\u001b[1;33m=\u001b[0m\u001b[0mvmax\u001b[0m\u001b[1;33m,\u001b[0m \u001b[0malpha\u001b[0m\u001b[1;33m=\u001b[0m\u001b[0malpha\u001b[0m\u001b[1;33m,\u001b[0m \u001b[0mlinewidths\u001b[0m\u001b[1;33m=\u001b[0m\u001b[0mlinewidths\u001b[0m\u001b[1;33m,\u001b[0m\u001b[1;33m\u001b[0m\u001b[1;33m\u001b[0m\u001b[0m\n",
      "\u001b[1;32mc:\\users\\leoshr\\appdata\\local\\programs\\python\\python39\\lib\\site-packages\\matplotlib\\__init__.py\u001b[0m in \u001b[0;36minner\u001b[1;34m(ax, data, *args, **kwargs)\u001b[0m\n\u001b[0;32m   1362\u001b[0m \u001b[1;33m\u001b[0m\u001b[0m\n\u001b[0;32m   1363\u001b[0m         \u001b[0mbound\u001b[0m \u001b[1;33m=\u001b[0m \u001b[0mnew_sig\u001b[0m\u001b[1;33m.\u001b[0m\u001b[0mbind\u001b[0m\u001b[1;33m(\u001b[0m\u001b[0max\u001b[0m\u001b[1;33m,\u001b[0m \u001b[1;33m*\u001b[0m\u001b[0margs\u001b[0m\u001b[1;33m,\u001b[0m \u001b[1;33m**\u001b[0m\u001b[0mkwargs\u001b[0m\u001b[1;33m)\u001b[0m\u001b[1;33m\u001b[0m\u001b[1;33m\u001b[0m\u001b[0m\n\u001b[1;32m-> 1364\u001b[1;33m         auto_label = (bound.arguments.get(label_namer)\n\u001b[0m\u001b[0;32m   1365\u001b[0m                       or bound.kwargs.get(label_namer))\n\u001b[0;32m   1366\u001b[0m \u001b[1;33m\u001b[0m\u001b[0m\n",
      "\u001b[1;32mc:\\users\\leoshr\\appdata\\local\\programs\\python\\python39\\lib\\site-packages\\pandas\\core\\generic.py\u001b[0m in \u001b[0;36m__nonzero__\u001b[1;34m(self)\u001b[0m\n\u001b[0;32m   1535\u001b[0m     \u001b[1;33m@\u001b[0m\u001b[0mfinal\u001b[0m\u001b[1;33m\u001b[0m\u001b[1;33m\u001b[0m\u001b[0m\n\u001b[0;32m   1536\u001b[0m     \u001b[1;32mdef\u001b[0m \u001b[0m__nonzero__\u001b[0m\u001b[1;33m(\u001b[0m\u001b[0mself\u001b[0m\u001b[1;33m)\u001b[0m\u001b[1;33m:\u001b[0m\u001b[1;33m\u001b[0m\u001b[1;33m\u001b[0m\u001b[0m\n\u001b[1;32m-> 1537\u001b[1;33m         raise ValueError(\n\u001b[0m\u001b[0;32m   1538\u001b[0m             \u001b[1;34mf\"The truth value of a {type(self).__name__} is ambiguous. \"\u001b[0m\u001b[1;33m\u001b[0m\u001b[1;33m\u001b[0m\u001b[0m\n\u001b[0;32m   1539\u001b[0m             \u001b[1;34m\"Use a.empty, a.bool(), a.item(), a.any() or a.all().\"\u001b[0m\u001b[1;33m\u001b[0m\u001b[1;33m\u001b[0m\u001b[0m\n",
      "\u001b[1;31mValueError\u001b[0m: The truth value of a Series is ambiguous. Use a.empty, a.bool(), a.item(), a.any() or a.all()."
     ]
    },
    {
     "data": {
      "image/png": "[encoded data removed]",
      "text/plain": [
       "<Figure size 432x288 with 1 Axes>"
      ]
     },
     "metadata": {
      "needs_background": "light"
     },
     "output_type": "display_data"
    }
   ],
   "source": [
    "plot = plt.scatter(data=results_pd, x=results_pd.index, y=results_pd['Bytes Transferred'],c=results_pd['prediction'])\n",
    "plt.ylabel('Bytes Transferred')"
   ]
  },
  {
   "cell_type": "code",
   "execution_count": 27,
   "id": "d2699647",
   "metadata": {},
   "outputs": [
    {
     "name": "stdout",
     "output_type": "stream",
     "text": [
      "   colA  colB   colC  colD\n",
      "0     1   531   True  12.8\n",
      "1     2   126  False  74.2\n",
      "2     3   175  False   1.1\n",
      "3     4   127   True  45.8\n",
      "4     5   543   True  21.1\n",
      "5     6   254  False  98.1\n"
     ]
    }
   ],
   "source": [
    "import pandas as pd\n",
    "df = pd.DataFrame([\n",
    "        (1, 531, True, 12.8),\n",
    "        (2, 126, False, 74.2),\n",
    "        (3, 175, False, 1.1),\n",
    "        (4, 127, True, 45.8),\n",
    "        (5, 543, True, 21.1),\n",
    "        (6, 254, False, 98.1),\n",
    "    ],columns=['colA', 'colB', 'colC', 'colD'])\n",
    "print(df)"
   ]
  },
  {
   "cell_type": "code",
   "execution_count": 30,
   "id": "7cdc0fd4",
   "metadata": {},
   "outputs": [
    {
     "data": {
      "text/html": [
       "<div>\n",
       "<style scoped>\n",
       "    .dataframe tbody tr th:only-of-type {\n",
       "        vertical-align: middle;\n",
       "    }\n",
       "\n",
       "    .dataframe tbody tr th {\n",
       "        vertical-align: top;\n",
       "    }\n",
       "\n",
       "    .dataframe thead th {\n",
       "        text-align: right;\n",
       "    }\n",
       "</style>\n",
       "<table border=\"1\" class=\"dataframe\">\n",
       "  <thead>\n",
       "    <tr style=\"text-align: right;\">\n",
       "      <th></th>\n",
       "      <th>colA</th>\n",
       "      <th>colB</th>\n",
       "      <th>colC</th>\n",
       "      <th>colD</th>\n",
       "    </tr>\n",
       "  </thead>\n",
       "  <tbody>\n",
       "    <tr>\n",
       "      <th>0</th>\n",
       "      <td>1</td>\n",
       "      <td>531</td>\n",
       "      <td>True</td>\n",
       "      <td>12.8</td>\n",
       "    </tr>\n",
       "    <tr>\n",
       "      <th>4</th>\n",
       "      <td>5</td>\n",
       "      <td>543</td>\n",
       "      <td>True</td>\n",
       "      <td>21.1</td>\n",
       "    </tr>\n",
       "    <tr>\n",
       "      <th>5</th>\n",
       "      <td>6</td>\n",
       "      <td>254</td>\n",
       "      <td>False</td>\n",
       "      <td>98.1</td>\n",
       "    </tr>\n",
       "  </tbody>\n",
       "</table>\n",
       "</div>"
      ],
      "text/plain": [
       "   colA  colB   colC  colD\n",
       "0     1   531   True  12.8\n",
       "4     5   543   True  21.1\n",
       "5     6   254  False  98.1"
      ]
     },
     "execution_count": 30,
     "metadata": {},
     "output_type": "execute_result"
    }
   ],
   "source": [
    "df[df['colB']>200]"
   ]
  },
  {
   "cell_type": "code",
   "execution_count": 32,
   "id": "832c133f",
   "metadata": {},
   "outputs": [
    {
     "data": {
      "text/html": [
       "<div>\n",
       "<style scoped>\n",
       "    .dataframe tbody tr th:only-of-type {\n",
       "        vertical-align: middle;\n",
       "    }\n",
       "\n",
       "    .dataframe tbody tr th {\n",
       "        vertical-align: top;\n",
       "    }\n",
       "\n",
       "    .dataframe thead th {\n",
       "        text-align: right;\n",
       "    }\n",
       "</style>\n",
       "<table border=\"1\" class=\"dataframe\">\n",
       "  <thead>\n",
       "    <tr style=\"text-align: right;\">\n",
       "      <th></th>\n",
       "      <th>colA</th>\n",
       "      <th>colB</th>\n",
       "      <th>colC</th>\n",
       "      <th>colD</th>\n",
       "    </tr>\n",
       "  </thead>\n",
       "  <tbody>\n",
       "    <tr>\n",
       "      <th>0</th>\n",
       "      <td>1</td>\n",
       "      <td>531</td>\n",
       "      <td>True</td>\n",
       "      <td>12.8</td>\n",
       "    </tr>\n",
       "    <tr>\n",
       "      <th>2</th>\n",
       "      <td>3</td>\n",
       "      <td>175</td>\n",
       "      <td>False</td>\n",
       "      <td>1.1</td>\n",
       "    </tr>\n",
       "    <tr>\n",
       "      <th>3</th>\n",
       "      <td>4</td>\n",
       "      <td>127</td>\n",
       "      <td>True</td>\n",
       "      <td>45.8</td>\n",
       "    </tr>\n",
       "    <tr>\n",
       "      <th>4</th>\n",
       "      <td>5</td>\n",
       "      <td>543</td>\n",
       "      <td>True</td>\n",
       "      <td>21.1</td>\n",
       "    </tr>\n",
       "  </tbody>\n",
       "</table>\n",
       "</div>"
      ],
      "text/plain": [
       "   colA  colB   colC  colD\n",
       "0     1   531   True  12.8\n",
       "2     3   175  False   1.1\n",
       "3     4   127   True  45.8\n",
       "4     5   543   True  21.1"
      ]
     },
     "execution_count": 32,
     "metadata": {},
     "output_type": "execute_result"
    }
   ],
   "source": [
    "df[df['colD'] <= 50]"
   ]
  },
  {
   "cell_type": "code",
   "execution_count": 33,
   "id": "7ee72b0e",
   "metadata": {},
   "outputs": [
    {
     "ename": "SyntaxError",
     "evalue": "unexpected EOF while parsing (Temp/ipykernel_13356/4154032455.py, line 1)",
     "output_type": "error",
     "traceback": [
      "\u001b[1;36m  File \u001b[1;32m\"C:\\Users\\LeoShr\\AppData\\Local\\Temp/ipykernel_13356/4154032455.py\"\u001b[1;36m, line \u001b[1;32m1\u001b[0m\n\u001b[1;33m    df = df[(df['colB'] > 200) and (df['colD'] <= 50)\u001b[0m\n\u001b[1;37m                                                     ^\u001b[0m\n\u001b[1;31mSyntaxError\u001b[0m\u001b[1;31m:\u001b[0m unexpected EOF while parsing\n"
     ]
    }
   ],
   "source": [
    "df = df[(df['colB'] > 200) and (df['colD'] <= 50)"
   ]
  }
 ],
 "metadata": {
  "kernelspec": {
   "display_name": "Python 3 (ipykernel)",
   "language": "python",
   "name": "python3"
  },
  "language_info": {
   "codemirror_mode": {
    "name": "ipython",
    "version": 3
   },
   "file_extension": ".py",
   "mimetype": "text/x-python",
   "name": "python",
   "nbconvert_exporter": "python",
   "pygments_lexer": "ipython3",
   "version": "3.9.0"
  }
 },
 "nbformat": 4,
 "nbformat_minor": 5
}
