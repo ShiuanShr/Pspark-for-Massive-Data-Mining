{
 "cells": [
  {
   "cell_type": "markdown",
   "id": "6150005a",
   "metadata": {},
   "source": [
    "## ReadMe\n",
    "Tutorial: \n",
    "\n",
    "https://towardsdatascience.com/k-means-clustering-using-pyspark-on-big-data-6214beacdc8b\n",
    "\n",
    "\n",
    "data:  \n",
    "\n",
    "https://www.kaggle.com/arjunbhasin2013/ccdata"
   ]
  },
  {
   "cell_type": "code",
   "execution_count": 1,
   "id": "c4345125",
   "metadata": {},
   "outputs": [
    {
     "name": "stdout",
     "output_type": "stream",
     "text": [
      "sc:<SparkContext master=local appName=Kmeans>\n"
     ]
    }
   ],
   "source": [
    "# https://www.kaggle.com/arjunbhasin2013/ccdata\n",
    "\n",
    "\n",
    "#api for k-means algo\n",
    "from pyspark.ml.clustering import KMeans,KMeansModel\n",
    "\n",
    "#ClusteringEvaluator\n",
    "from pyspark.ml.evaluation import ClusteringEvaluator\n",
    "#https://spark.apache.org/docs/latest/api/python/reference/api/pyspark.ml.evaluation.ClusteringEvaluator.html\n",
    "#The metric computes the Silhouette measure using the squared Euclidean distance.\n",
    "\n",
    "from numpy import array\n",
    "from math import sqrt\n",
    "\n",
    "#Build the api for the entrance\n",
    "from pyspark.context import SparkContext,SparkConf\n",
    "from pyspark.rdd import RDD\n",
    "from pyspark.sql import SparkSession\n",
    "import os\n",
    "import sys\n",
    "\n",
    "\n",
    "#Config\n",
    "os.environ['JAVA_HOME'] = 'C:\\Program Files\\Java\\jre1.8.0_301'\n",
    "os.environ['PYSPARK_PYTHON'] = sys.executable\n",
    "os.environ['PYSPARK_DRIVER_PYTHON'] = sys.executable\n",
    "\n",
    "\n",
    "sc = SparkContext(conf=SparkConf().setAppName(\"Kmeans\").setMaster(\"local\"))\n",
    "print(f'sc:{sc}')\n",
    "spark = SparkSession(sc)"
   ]
  },
  {
   "cell_type": "code",
   "execution_count": 12,
   "id": "a1dd9c6b",
   "metadata": {},
   "outputs": [
    {
     "data": {
      "text/plain": [
       "'C:\\\\Users\\\\LeoShr\\\\p_space\\\\NTHU\\\\MDA\\\\CH3_K_means'"
      ]
     },
     "execution_count": 12,
     "metadata": {},
     "output_type": "execute_result"
    }
   ],
   "source": [
    "import os\n",
    "\n",
    "root = os.path.abspath(os.getcwd())\n",
    "root"
   ]
  },
  {
   "cell_type": "code",
   "execution_count": 16,
   "id": "cb153a39",
   "metadata": {},
   "outputs": [
    {
     "name": "stdout",
     "output_type": "stream",
     "text": [
      "root\n",
      " |-- CUST_ID: string (nullable = true)\n",
      " |-- BALANCE: double (nullable = true)\n",
      " |-- BALANCE_FREQUENCY: double (nullable = true)\n",
      " |-- PURCHASES: double (nullable = true)\n",
      " |-- ONEOFF_PURCHASES: double (nullable = true)\n",
      " |-- INSTALLMENTS_PURCHASES: double (nullable = true)\n",
      " |-- CASH_ADVANCE: double (nullable = true)\n",
      " |-- PURCHASES_FREQUENCY: double (nullable = true)\n",
      " |-- ONEOFF_PURCHASES_FREQUENCY: double (nullable = true)\n",
      " |-- PURCHASES_INSTALLMENTS_FREQUENCY: double (nullable = true)\n",
      " |-- CASH_ADVANCE_FREQUENCY: double (nullable = true)\n",
      " |-- CASH_ADVANCE_TRX: integer (nullable = true)\n",
      " |-- PURCHASES_TRX: integer (nullable = true)\n",
      " |-- CREDIT_LIMIT: double (nullable = true)\n",
      " |-- PAYMENTS: double (nullable = true)\n",
      " |-- MINIMUM_PAYMENTS: double (nullable = true)\n",
      " |-- PRC_FULL_PAYMENT: double (nullable = true)\n",
      " |-- TENURE: integer (nullable = true)\n",
      "\n"
     ]
    }
   ],
   "source": [
    "# from pyspark.sql import SparkSession\n",
    "# spark = SparkSession.builder.appName('Clustering using K-Means').getOrCreate()\n",
    "\n",
    "path = root+'\\\\dataset\\\\CC_GENERAL.csv'\n",
    "#data_customer = sc.textFile(path)\n",
    "data_customer=spark.read.csv(path, header=True, inferSchema=True)\n",
    "data_customer.printSchema()#import csv時\n",
    "#data_customer.collect() #import RDD/ df時"
   ]
  },
  {
   "cell_type": "code",
   "execution_count": 17,
   "id": "b7278135",
   "metadata": {},
   "outputs": [],
   "source": [
    "data_customer=data_customer.na.drop()\n"
   ]
  },
  {
   "cell_type": "markdown",
   "id": "a1cca5cb",
   "metadata": {},
   "source": [
    "## extract the required columns\n",
    "\n",
    "we first extract the required columns using .columns, pass it as an input to Vector Assembler, a vector assembler is a transformer that converts a set of features into a single vector column often referred to as an array of features/ columns."
   ]
  },
  {
   "cell_type": "markdown",
   "id": "90afb6ee",
   "metadata": {},
   "source": [
    "## Assemble"
   ]
  },
  {
   "cell_type": "code",
   "execution_count": 23,
   "id": "46f569b6",
   "metadata": {},
   "outputs": [
    {
     "data": {
      "text/plain": [
       "['CUST_ID',\n",
       " 'BALANCE',\n",
       " 'BALANCE_FREQUENCY',\n",
       " 'PURCHASES',\n",
       " 'ONEOFF_PURCHASES',\n",
       " 'INSTALLMENTS_PURCHASES',\n",
       " 'CASH_ADVANCE',\n",
       " 'PURCHASES_FREQUENCY',\n",
       " 'ONEOFF_PURCHASES_FREQUENCY',\n",
       " 'PURCHASES_INSTALLMENTS_FREQUENCY',\n",
       " 'CASH_ADVANCE_FREQUENCY',\n",
       " 'CASH_ADVANCE_TRX',\n",
       " 'PURCHASES_TRX',\n",
       " 'CREDIT_LIMIT',\n",
       " 'PAYMENTS',\n",
       " 'MINIMUM_PAYMENTS',\n",
       " 'PRC_FULL_PAYMENT',\n",
       " 'TENURE']"
      ]
     },
     "execution_count": 23,
     "metadata": {},
     "output_type": "execute_result"
    }
   ],
   "source": [
    "from pyspark.ml.feature import VectorAssembler\n",
    "\n",
    "type(data_customer) #pyspark.sql.dataframe.DataFrame，無法用names找出欄位名稱\n",
    "data_customer.columns"
   ]
  },
  {
   "cell_type": "code",
   "execution_count": 45,
   "id": "69ef2f65",
   "metadata": {},
   "outputs": [
    {
     "data": {
      "text/plain": [
       "pyspark.sql.dataframe.DataFrame"
      ]
     },
     "execution_count": 45,
     "metadata": {},
     "output_type": "execute_result"
    }
   ],
   "source": [
    "type(data_customer)"
   ]
  },
  {
   "cell_type": "code",
   "execution_count": 44,
   "id": "6da4e4e5",
   "metadata": {},
   "outputs": [
    {
     "name": "stdout",
     "output_type": "stream",
     "text": [
      "['BALANCE', 'BALANCE_FREQUENCY', 'PURCHASES', 'ONEOFF_PURCHASES', 'INSTALLMENTS_PURCHASES', 'CASH_ADVANCE', 'PURCHASES_FREQUENCY', 'ONEOFF_PURCHASES_FREQUENCY', 'PURCHASES_INSTALLMENTS_FREQUENCY', 'CASH_ADVANCE_FREQUENCY', 'CASH_ADVANCE_TRX', 'PURCHASES_TRX', 'CREDIT_LIMIT', 'PAYMENTS', 'MINIMUM_PAYMENTS', 'PRC_FULL_PAYMENT', 'TENURE']\n",
      "<class 'pyspark.ml.feature.VectorAssembler'>\n"
     ]
    }
   ],
   "source": [
    "#remove the column: 'CUST_ID'\n",
    "required_col = data_customer.columns[1:]\n",
    "print(required_col)\n",
    "#vector assemble\n",
    "assemble=VectorAssembler(inputCols=required_col, outputCol='features')\n",
    "print(type(assemble))"
   ]
  },
  {
   "cell_type": "code",
   "execution_count": 43,
   "id": "4fb86bca",
   "metadata": {},
   "outputs": [
    {
     "name": "stdout",
     "output_type": "stream",
     "text": [
      "+-------+-----------+-----------------+---------+----------------+----------------------+------------+-------------------+--------------------------+--------------------------------+----------------------+----------------+-------------+------------+-----------+----------------+----------------+------+--------------------+\n",
      "|CUST_ID|    BALANCE|BALANCE_FREQUENCY|PURCHASES|ONEOFF_PURCHASES|INSTALLMENTS_PURCHASES|CASH_ADVANCE|PURCHASES_FREQUENCY|ONEOFF_PURCHASES_FREQUENCY|PURCHASES_INSTALLMENTS_FREQUENCY|CASH_ADVANCE_FREQUENCY|CASH_ADVANCE_TRX|PURCHASES_TRX|CREDIT_LIMIT|   PAYMENTS|MINIMUM_PAYMENTS|PRC_FULL_PAYMENT|TENURE|            features|\n",
      "+-------+-----------+-----------------+---------+----------------+----------------------+------------+-------------------+--------------------------+--------------------------------+----------------------+----------------+-------------+------------+-----------+----------------+----------------+------+--------------------+\n",
      "| C10001|  40.900749|         0.818182|     95.4|             0.0|                  95.4|         0.0|           0.166667|                       0.0|                        0.083333|                   0.0|               0|            2|      1000.0| 201.802084|      139.509787|             0.0|    12|[40.900749,0.8181...|\n",
      "| C10002|3202.467416|         0.909091|      0.0|             0.0|                   0.0| 6442.945483|                0.0|                       0.0|                             0.0|                  0.25|               4|            0|      7000.0|4103.032597|     1072.340217|        0.222222|    12|(17,[0,1,5,9,10,1...|\n",
      "+-------+-----------+-----------------+---------+----------------+----------------------+------------+-------------------+--------------------------+--------------------------------+----------------------+----------------+-------------+------------+-----------+----------------+----------------+------+--------------------+\n",
      "only showing top 2 rows\n",
      "\n"
     ]
    }
   ],
   "source": [
    "##????\n",
    "assembled_data=assemble.transform(data_customer)\n",
    "assembled_data.show(2)"
   ]
  },
  {
   "cell_type": "code",
   "execution_count": 39,
   "id": "dc7fd326",
   "metadata": {},
   "outputs": [
    {
     "name": "stdout",
     "output_type": "stream",
     "text": [
      "+-------+-----------+-----------------+---------+----------------+----------------------+------------+-------------------+--------------------------+--------------------------------+----------------------+----------------+-------------+------------+-----------+----------------+----------------+------+--------------------+\n",
      "|CUST_ID|    BALANCE|BALANCE_FREQUENCY|PURCHASES|ONEOFF_PURCHASES|INSTALLMENTS_PURCHASES|CASH_ADVANCE|PURCHASES_FREQUENCY|ONEOFF_PURCHASES_FREQUENCY|PURCHASES_INSTALLMENTS_FREQUENCY|CASH_ADVANCE_FREQUENCY|CASH_ADVANCE_TRX|PURCHASES_TRX|CREDIT_LIMIT|   PAYMENTS|MINIMUM_PAYMENTS|PRC_FULL_PAYMENT|TENURE|            features|\n",
      "+-------+-----------+-----------------+---------+----------------+----------------------+------------+-------------------+--------------------------+--------------------------------+----------------------+----------------+-------------+------------+-----------+----------------+----------------+------+--------------------+\n",
      "| C10001|  40.900749|         0.818182|     95.4|             0.0|                  95.4|         0.0|           0.166667|                       0.0|                        0.083333|                   0.0|               0|            2|      1000.0| 201.802084|      139.509787|             0.0|    12|[40.900749,0.8181...|\n",
      "| C10002|3202.467416|         0.909091|      0.0|             0.0|                   0.0| 6442.945483|                0.0|                       0.0|                             0.0|                  0.25|               4|            0|      7000.0|4103.032597|     1072.340217|        0.222222|    12|(17,[0,1,5,9,10,1...|\n",
      "+-------+-----------+-----------------+---------+----------------+----------------------+------------+-------------------+--------------------------+--------------------------------+----------------------+----------------+-------------+------------+-----------+----------------+----------------+------+--------------------+\n",
      "only showing top 2 rows\n",
      "\n"
     ]
    }
   ],
   "source": [
    "assembled_data.show(2)"
   ]
  },
  {
   "cell_type": "markdown",
   "id": "59718b26",
   "metadata": {},
   "source": [
    "# standardize\n",
    "\n",
    "1. Now that all columns had transformed into a single feature vector\n",
    "2. we need to standardize the data to bring them to a comparable scale. \n",
    "\n",
    "用 StandardScaler\n",
    "\n",
    "E.g. Balance can have a scale from 10–1000 whereas balance frequency has a scale from 0–1 say. Euclidean distance is always impacted more by variables on a higher scale, hence it’s important to scale the variables out."
   ]
  },
  {
   "cell_type": "code",
   "execution_count": 31,
   "id": "f9eb13ef",
   "metadata": {},
   "outputs": [],
   "source": [
    "from pyspark.ml.feature import StandardScaler"
   ]
  },
  {
   "cell_type": "code",
   "execution_count": 32,
   "id": "87e75ba8",
   "metadata": {},
   "outputs": [],
   "source": [
    "scale=StandardScaler(inputCol='features',outputCol='standardized')"
   ]
  },
  {
   "cell_type": "code",
   "execution_count": 33,
   "id": "efeaefcc",
   "metadata": {},
   "outputs": [
    {
     "name": "stdout",
     "output_type": "stream",
     "text": [
      "+-------+-----------+-----------------+---------+----------------+----------------------+------------+-------------------+--------------------------+--------------------------------+----------------------+----------------+-------------+------------+-----------+----------------+----------------+------+--------------------+--------------------+\n",
      "|CUST_ID|    BALANCE|BALANCE_FREQUENCY|PURCHASES|ONEOFF_PURCHASES|INSTALLMENTS_PURCHASES|CASH_ADVANCE|PURCHASES_FREQUENCY|ONEOFF_PURCHASES_FREQUENCY|PURCHASES_INSTALLMENTS_FREQUENCY|CASH_ADVANCE_FREQUENCY|CASH_ADVANCE_TRX|PURCHASES_TRX|CREDIT_LIMIT|   PAYMENTS|MINIMUM_PAYMENTS|PRC_FULL_PAYMENT|TENURE|            features|        standardized|\n",
      "+-------+-----------+-----------------+---------+----------------+----------------------+------------+-------------------+--------------------------+--------------------------------+----------------------+----------------+-------------+------------+-----------+----------------+----------------+------+--------------------+--------------------+\n",
      "| C10001|  40.900749|         0.818182|     95.4|             0.0|                  95.4|         0.0|           0.166667|                       0.0|                        0.083333|                   0.0|               0|            2|      1000.0| 201.802084|      139.509787|             0.0|    12|[40.900749,0.8181...|[0.01951770812869...|\n",
      "| C10002|3202.467416|         0.909091|      0.0|             0.0|                   0.0| 6442.945483|                0.0|                       0.0|                             0.0|                  0.25|               4|            0|      7000.0|4103.032597|     1072.340217|        0.222222|    12|(17,[0,1,5,9,10,1...|(17,[0,1,5,9,10,1...|\n",
      "+-------+-----------+-----------------+---------+----------------+----------------------+------------+-------------------+--------------------------+--------------------------------+----------------------+----------------+-------------+------------+-----------+----------------+----------------+------+--------------------+--------------------+\n",
      "only showing top 2 rows\n",
      "\n"
     ]
    }
   ],
   "source": [
    "data_scale=scale.fit(assembled_data)\n",
    "data_scale_output=data_scale.transform(assembled_data)\n",
    "data_scale_output.show(2)"
   ]
  },
  {
   "cell_type": "markdown",
   "id": "92fd4c4e",
   "metadata": {},
   "source": [
    "## K Means algorithm.\n",
    "\n",
    "The KMeans function from pyspark.ml.clustering includes the following parameters:\n",
    "\n",
    "1. k: \n",
    "\n",
    "分群數量，通常是指定值或是經驗值，但是若是無法得知，需要進行EDA，\n",
    "##### Still wondering how to decide K? Let’s dig deep\n",
    "https://towardsdatascience.com/unsupervised-learning-techniques-using-python-k-means-and-silhouette-score-for-clustering-d6dd1f30b660\n",
    "\n",
    "2. maxIterations: \n",
    "\n",
    "執行迭代次數n次，但是若當entoid抖動誤差小於epsilon value，則無論是否達到n，模型都會進行early stopping\n",
    "\n",
    "\n",
    "3. initializationMode: \n",
    "\n",
    "指定起始的centroids，\n",
    "specifies either random initialization of centroids or initialization via k-means|| (similar to K-means ++)\n",
    "\n",
    "\n",
    "4. epsilon: \n",
    "\n",
    "決定收斂的threshold，我希望是使用指定iteration 次數，以效率為主\n",
    "\n",
    "5. initialModel \n",
    "\n",
    "提供預設的起始centroids，當啟用該變數時，演算法會執行一輪進行分配到最近的點。\n",
    "If this parameter is used, the algorithm just runs once to allocate points to its nearest centroid"
   ]
  },
  {
   "cell_type": "markdown",
   "id": "7b2336de",
   "metadata": {},
   "source": [
    "預設值:\n",
    "\n",
    "\n",
    "train(k=4, maxIterations=20, minDivisibleClusterSize=1.0, seed=-1888008604) are the default values."
   ]
  },
  {
   "cell_type": "code",
   "execution_count": 34,
   "id": "f4c68ba9",
   "metadata": {},
   "outputs": [
    {
     "name": "stdout",
     "output_type": "stream",
     "text": [
      "Silhouette Score: 0.44752332646426074\n",
      "Silhouette Score: 0.2877583415733337\n",
      "Silhouette Score: 0.2467832405385038\n",
      "Silhouette Score: 0.25915218179642147\n",
      "Silhouette Score: 0.2650616711183566\n",
      "Silhouette Score: 0.2906175048407014\n",
      "Silhouette Score: 0.2974286832863345\n",
      "Silhouette Score: 0.2947398261895235\n"
     ]
    }
   ],
   "source": [
    "from pyspark.ml.clustering import KMeans\n",
    "from pyspark.ml.evaluation import ClusteringEvaluator\n",
    "silhouette_score=[]\n",
    "evaluator = ClusteringEvaluator(predictionCol='prediction', featuresCol='standardized', \\\n",
    "                                metricName='silhouette', distanceMeasure='squaredEuclidean')\n",
    "for i in range(2,10):\n",
    "    \n",
    "    KMeans_algo=KMeans(featuresCol='standardized', k=i)\n",
    "    \n",
    "    KMeans_fit=KMeans_algo.fit(data_scale_output)\n",
    "    \n",
    "    output=KMeans_fit.transform(data_scale_output)\n",
    "    \n",
    "    \n",
    "    \n",
    "    score=evaluator.evaluate(output)\n",
    "    \n",
    "    silhouette_score.append(score)\n",
    "    \n",
    "    print(\"Silhouette Score:\",score)"
   ]
  },
  {
   "cell_type": "code",
   "execution_count": 36,
   "id": "5746cb71",
   "metadata": {},
   "outputs": [
    {
     "data": {
      "text/plain": [
       "Text(0, 0.5, 'cost')"
      ]
     },
     "execution_count": 36,
     "metadata": {},
     "output_type": "execute_result"
    },
    {
     "data": {
      "image/png": "[encoded data removed]",
      "text/plain": [
       "<Figure size 576x432 with 1 Axes>"
      ]
     },
     "metadata": {
      "needs_background": "light"
     },
     "output_type": "display_data"
    }
   ],
   "source": [
    "#Visualizing the silhouette scores in a plot\n",
    "import matplotlib.pyplot as plt\n",
    "fig, ax = plt.subplots(1,1, figsize =(8,6))\n",
    "ax.plot(range(2,10),silhouette_score)\n",
    "ax.set_xlabel('k')\n",
    "ax.set_ylabel('cost')"
   ]
  },
  {
   "cell_type": "markdown",
   "id": "1c51df88",
   "metadata": {},
   "source": [
    "依照圖，肉眼是看到K=7 時，取得區域Silhouette Score最大值\n",
    "然而並沒有所謂一定正確的K值。我們能回歸描述性統計解釋，並利用圖解釋客戶的機率分配。\n",
    "而這部分就適合使用sklearn (documentation and PCA 降維)\n",
    "或是把y軸放上SSE，我們能取得elbow plot。"
   ]
  }
 ],
 "metadata": {
  "kernelspec": {
   "display_name": "Python 3 (ipykernel)",
   "language": "python",
   "name": "python3"
  },
  "language_info": {
   "codemirror_mode": {
    "name": "ipython",
    "version": 3
   },
   "file_extension": ".py",
   "mimetype": "text/x-python",
   "name": "python",
   "nbconvert_exporter": "python",
   "pygments_lexer": "ipython3",
   "version": "3.9.0"
  }
 },
 "nbformat": 4,
 "nbformat_minor": 5
}
